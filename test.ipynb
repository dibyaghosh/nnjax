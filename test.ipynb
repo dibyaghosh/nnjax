{
 "cells": [
  {
   "cell_type": "code",
   "execution_count": 1,
   "metadata": {},
   "outputs": [],
   "source": [
    "import os\n",
    "os.environ['JAX_PLATFORMS'] = \"cpu\"\n",
    "\n",
    "import numpy as np\n",
    "import jax.numpy as jnp\n",
    "import jax"
   ]
  },
  {
   "cell_type": "code",
   "execution_count": 2,
   "metadata": {},
   "outputs": [],
   "source": [
    "from vit import transformer"
   ]
  },
  {
   "cell_type": "code",
   "execution_count": 3,
   "metadata": {},
   "outputs": [],
   "source": [
    "from vit import test_equality"
   ]
  },
  {
   "cell_type": "code",
   "execution_count": 4,
   "metadata": {},
   "outputs": [],
   "source": [
    "params = test_equality._load_params(\"/home/dibya/nfs/siglip2_b16_224.npz\")"
   ]
  },
  {
   "cell_type": "code",
   "execution_count": 5,
   "metadata": {},
   "outputs": [],
   "source": [
    "model = transformer.ViT.create_from_pretrained(params, transformer.ViTConfig.B16())"
   ]
  },
  {
   "cell_type": "code",
   "execution_count": 6,
   "metadata": {},
   "outputs": [],
   "source": [
    "from PIL import Image\n",
    "image = np.asarray(Image.open('cat.jpg').resize((224, 224)))"
   ]
  },
  {
   "cell_type": "code",
   "execution_count": 7,
   "metadata": {},
   "outputs": [
    {
     "name": "stderr",
     "output_type": "stream",
     "text": [
      "2025-03-10 22:46:09.919353: E external/local_xla/xla/stream_executor/cuda/cuda_fft.cc:485] Unable to register cuFFT factory: Attempting to register factory for plugin cuFFT when one has already been registered\n",
      "2025-03-10 22:46:09.938621: E external/local_xla/xla/stream_executor/cuda/cuda_dnn.cc:8454] Unable to register cuDNN factory: Attempting to register factory for plugin cuDNN when one has already been registered\n",
      "2025-03-10 22:46:09.944593: E external/local_xla/xla/stream_executor/cuda/cuda_blas.cc:1452] Unable to register cuBLAS factory: Attempting to register factory for plugin cuBLAS when one has already been registered\n",
      "2025-03-10 22:46:11.982061: W tensorflow/compiler/tf2tensorrt/utils/py_utils.cc:38] TF-TRT Warning: Could not find TensorRT\n"
     ]
    },
    {
     "ename": "ValueError",
     "evalue": "Size of label 'n' for operand 1 (196) does not match previous terms (12).",
     "output_type": "error",
     "traceback": [
      "\u001b[0;31m---------------------------------------------------------------------------\u001b[0m",
      "\u001b[0;31mValueError\u001b[0m                                Traceback (most recent call last)",
      "\u001b[1;32m/home/dibya/nfs/practice/transformer_from_scratch/test.ipynb Cell 7\u001b[0m line \u001b[0;36m1\n\u001b[0;32m----> <a href='vscode-notebook-cell://ssh-remote%2Btpuv4-tpu/home/dibya/nfs/practice/transformer_from_scratch/test.ipynb#X30sdnNjb2RlLXJlbW90ZQ%3D%3D?line=0'>1</a>\u001b[0m pred_outputs \u001b[39m=\u001b[39m model(image[\u001b[39mNone\u001b[39;49;00m])\n",
      "File \u001b[0;32m/nfs/nfs2/users/dibya/practice/transformer_from_scratch/vit/transformer.py:329\u001b[0m, in \u001b[0;36mViT.__call__\u001b[0;34m(self, images)\u001b[0m\n\u001b[1;32m    327\u001b[0m out \u001b[39m=\u001b[39m {}\n\u001b[1;32m    328\u001b[0m embeddings \u001b[39m=\u001b[39m out[\u001b[39m\"\u001b[39m\u001b[39mwith_posemb\u001b[39m\u001b[39m\"\u001b[39m] \u001b[39m=\u001b[39m \u001b[39mself\u001b[39m\u001b[39m.\u001b[39membedding(images)\n\u001b[0;32m--> 329\u001b[0m x, out[\u001b[39m\"\u001b[39m\u001b[39mencoder\u001b[39m\u001b[39m\"\u001b[39m] \u001b[39m=\u001b[39m \u001b[39mself\u001b[39;49m\u001b[39m.\u001b[39;49mtransformer(embeddings, train\u001b[39m=\u001b[39;49m\u001b[39mFalse\u001b[39;49;00m, key\u001b[39m=\u001b[39;49m\u001b[39mNone\u001b[39;49;00m)\n\u001b[1;32m    330\u001b[0m out[\u001b[39m\"\u001b[39m\u001b[39mencoded\u001b[39m\u001b[39m\"\u001b[39m] \u001b[39m=\u001b[39m x\n\u001b[1;32m    331\u001b[0m \u001b[39mreturn\u001b[39;00m x, out\n",
      "File \u001b[0;32m/nfs/nfs2/users/dibya/practice/transformer_from_scratch/vit/transformer.py:264\u001b[0m, in \u001b[0;36mTransformer.__call__\u001b[0;34m(self, x, train, key)\u001b[0m\n\u001b[1;32m    261\u001b[0m     \u001b[39mreturn\u001b[39;00m layer(x, train, key)\n\u001b[1;32m    263\u001b[0m \u001b[39mif\u001b[39;00m key \u001b[39mis\u001b[39;00m \u001b[39mNone\u001b[39;00m:\n\u001b[0;32m--> 264\u001b[0m     x, carry \u001b[39m=\u001b[39m jax\u001b[39m.\u001b[39;49mlax\u001b[39m.\u001b[39;49mscan(body, x, \u001b[39mself\u001b[39;49m\u001b[39m.\u001b[39;49mlayers)\n\u001b[1;32m    265\u001b[0m \u001b[39melse\u001b[39;00m:\n\u001b[1;32m    266\u001b[0m     split_keys \u001b[39m=\u001b[39m jax\u001b[39m.\u001b[39mrandom\u001b[39m.\u001b[39msplit(key, \u001b[39mself\u001b[39m\u001b[39m.\u001b[39mnum_layers)\n",
      "    \u001b[0;31m[... skipping hidden 9 frame]\u001b[0m\n",
      "File \u001b[0;32m/nfs/nfs2/users/dibya/practice/transformer_from_scratch/utils.py:162\u001b[0m, in \u001b[0;36mscan_capture_intermediates.<locals>.wrapper\u001b[0;34m(*args, **kwargs)\u001b[0m\n\u001b[1;32m    160\u001b[0m intermediates \u001b[39m=\u001b[39m {}\n\u001b[1;32m    161\u001b[0m \u001b[39mwith\u001b[39;00m capture_intermediates(intermediates):\n\u001b[0;32m--> 162\u001b[0m     x, carry \u001b[39m=\u001b[39m fn(\u001b[39m*\u001b[39;49margs, \u001b[39m*\u001b[39;49m\u001b[39m*\u001b[39;49mkwargs)\n\u001b[1;32m    163\u001b[0m \u001b[39mreturn\u001b[39;00m x, (carry, intermediates)\n",
      "File \u001b[0;32m/nfs/nfs2/users/dibya/practice/transformer_from_scratch/vit/transformer.py:261\u001b[0m, in \u001b[0;36mTransformer.__call__.<locals>.body\u001b[0;34m(x, layer, key)\u001b[0m\n\u001b[1;32m    259\u001b[0m \u001b[39m@utils\u001b[39m\u001b[39m.\u001b[39mscan_capture_intermediates\n\u001b[1;32m    260\u001b[0m \u001b[39mdef\u001b[39;00m \u001b[39mbody\u001b[39m(x, layer: TransformerLayer, key: Key \u001b[39m=\u001b[39m \u001b[39mNone\u001b[39;00m):\n\u001b[0;32m--> 261\u001b[0m     \u001b[39mreturn\u001b[39;00m layer(x, train, key)\n",
      "File \u001b[0;32m/nfs/nfs2/users/dibya/practice/transformer_from_scratch/vit/transformer.py:213\u001b[0m, in \u001b[0;36mTransformerLayer.__call__\u001b[0;34m(self, x, mask, train, key)\u001b[0m\n\u001b[1;32m    211\u001b[0m \u001b[39m# Attn\u001b[39;00m\n\u001b[1;32m    212\u001b[0m y \u001b[39m=\u001b[39m \u001b[39mself\u001b[39m\u001b[39m.\u001b[39mln1(out)\n\u001b[0;32m--> 213\u001b[0m y \u001b[39m=\u001b[39m out_dict[\u001b[39m\"\u001b[39m\u001b[39msa\u001b[39m\u001b[39m\"\u001b[39m] \u001b[39m=\u001b[39m \u001b[39mself\u001b[39;49m\u001b[39m.\u001b[39;49mattn(y, mask)\n\u001b[1;32m    214\u001b[0m y \u001b[39m=\u001b[39m \u001b[39mself\u001b[39m\u001b[39m.\u001b[39mdrop1(y, train, keys[\u001b[39m0\u001b[39m])\n\u001b[1;32m    215\u001b[0m out \u001b[39m=\u001b[39m out_dict[\u001b[39m\"\u001b[39m\u001b[39m+sa\u001b[39m\u001b[39m\"\u001b[39m] \u001b[39m=\u001b[39m out \u001b[39m+\u001b[39m y\n",
      "File \u001b[0;32m/nfs/nfs2/users/dibya/practice/transformer_from_scratch/vit/transformer.py:183\u001b[0m, in \u001b[0;36mAttentionBlock.__call__\u001b[0;34m(self, x, mask)\u001b[0m\n\u001b[1;32m    181\u001b[0m attn_weights \u001b[39m=\u001b[39m nn\u001b[39m.\u001b[39msoftmax(attn_logits, axis\u001b[39m=\u001b[39m\u001b[39m-\u001b[39m\u001b[39m1\u001b[39m)\n\u001b[1;32m    182\u001b[0m out \u001b[39m=\u001b[39m jnp\u001b[39m.\u001b[39meinsum(\u001b[39m\"\u001b[39m\u001b[39mbnqk, bknh -> bqnh\u001b[39m\u001b[39m\"\u001b[39m, attn_weights, v)\n\u001b[0;32m--> 183\u001b[0m out \u001b[39m=\u001b[39m \u001b[39mself\u001b[39;49m\u001b[39m.\u001b[39;49mout(out, \u001b[39m\"\u001b[39;49m\u001b[39mbnqh,nhd->bqd\u001b[39;49m\u001b[39m\"\u001b[39;49m)\n\u001b[1;32m    184\u001b[0m \u001b[39mreturn\u001b[39;00m out\n",
      "File \u001b[0;32m/nfs/nfs2/users/dibya/practice/transformer_from_scratch/utils.py:171\u001b[0m, in \u001b[0;36mcapture_outputs.<locals>.wrapper\u001b[0;34m(*args, **kwargs)\u001b[0m\n\u001b[1;32m    169\u001b[0m \u001b[39mdef\u001b[39;00m \u001b[39mwrapper\u001b[39m(\u001b[39m*\u001b[39margs, \u001b[39m*\u001b[39m\u001b[39m*\u001b[39mkwargs):\n\u001b[1;32m    170\u001b[0m     log_name \u001b[39m=\u001b[39m (args[\u001b[39m0\u001b[39m]\u001b[39m.\u001b[39m\u001b[39m__class__\u001b[39m\u001b[39m.\u001b[39m\u001b[39m__name__\u001b[39m, fn\u001b[39m.\u001b[39m\u001b[39m__name__\u001b[39m)\n\u001b[0;32m--> 171\u001b[0m     outputs \u001b[39m=\u001b[39m fn(\u001b[39m*\u001b[39;49margs, \u001b[39m*\u001b[39;49m\u001b[39m*\u001b[39;49mkwargs)\n\u001b[1;32m    172\u001b[0m     \u001b[39mif\u001b[39;00m _INTERMEDIATES \u001b[39mis\u001b[39;00m \u001b[39mnot\u001b[39;00m \u001b[39mNone\u001b[39;00m:\n\u001b[1;32m    173\u001b[0m         \u001b[39mif\u001b[39;00m log_name \u001b[39mnot\u001b[39;00m \u001b[39min\u001b[39;00m _INTERMEDIATES:\n",
      "File \u001b[0;32m/nfs/nfs2/users/dibya/practice/transformer_from_scratch/vit/transformer.py:46\u001b[0m, in \u001b[0;36mEinsum.__call__\u001b[0;34m(self, x, pattern)\u001b[0m\n\u001b[1;32m     44\u001b[0m \u001b[39m@utils\u001b[39m\u001b[39m.\u001b[39mcapture_outputs\n\u001b[1;32m     45\u001b[0m \u001b[39mdef\u001b[39;00m \u001b[39m__call__\u001b[39m(\u001b[39mself\u001b[39m, x, pattern: \u001b[39mstr\u001b[39m):\n\u001b[0;32m---> 46\u001b[0m     x \u001b[39m=\u001b[39m jnp\u001b[39m.\u001b[39;49meinsum(pattern, x, \u001b[39mself\u001b[39;49m\u001b[39m.\u001b[39;49mkernel)\n\u001b[1;32m     47\u001b[0m     \u001b[39mif\u001b[39;00m \u001b[39mself\u001b[39m\u001b[39m.\u001b[39mbias \u001b[39mis\u001b[39;00m \u001b[39mnot\u001b[39;00m \u001b[39mNone\u001b[39;00m:\n\u001b[1;32m     48\u001b[0m         x \u001b[39m=\u001b[39m x \u001b[39m+\u001b[39m \u001b[39mself\u001b[39m\u001b[39m.\u001b[39mbias\n",
      "File \u001b[0;32m/nfs/nfs2/users/dibya/miniconda3/envs/lv_env/lib/python3.11/site-packages/jax/_src/numpy/lax_numpy.py:9658\u001b[0m, in \u001b[0;36meinsum\u001b[0;34m(subscripts, out, optimize, precision, preferred_element_type, _dot_general, out_type, *operands)\u001b[0m\n\u001b[1;32m   9656\u001b[0m   contract_path \u001b[39m=\u001b[39m _poly_einsum_handlers\u001b[39m.\u001b[39mget(ty, _default_poly_einsum_handler)\n\u001b[1;32m   9657\u001b[0m \u001b[39m# using einsum_call=True here is an internal api for opt_einsum... sorry\u001b[39;00m\n\u001b[0;32m-> 9658\u001b[0m operands, contractions \u001b[39m=\u001b[39m contract_path(\n\u001b[1;32m   9659\u001b[0m       \u001b[39m*\u001b[39;49moperands, einsum_call\u001b[39m=\u001b[39;49m\u001b[39mTrue\u001b[39;49;00m, use_blas\u001b[39m=\u001b[39;49m\u001b[39mTrue\u001b[39;49;00m, optimize\u001b[39m=\u001b[39;49mpath_type)\n\u001b[1;32m   9661\u001b[0m contractions \u001b[39m=\u001b[39m \u001b[39mtuple\u001b[39m((a, \u001b[39mfrozenset\u001b[39m(b), c) \u001b[39mfor\u001b[39;00m a, b, c, \u001b[39m*\u001b[39m_ \u001b[39min\u001b[39;00m contractions)\n\u001b[1;32m   9663\u001b[0m einsum \u001b[39m=\u001b[39m jit(_einsum, static_argnums\u001b[39m=\u001b[39m(\u001b[39m1\u001b[39m, \u001b[39m2\u001b[39m, \u001b[39m3\u001b[39m, \u001b[39m4\u001b[39m, \u001b[39m5\u001b[39m), inline\u001b[39m=\u001b[39m\u001b[39mTrue\u001b[39;00m)\n",
      "File \u001b[0;32m/nfs/nfs2/users/dibya/miniconda3/envs/lv_env/lib/python3.11/site-packages/opt_einsum/contract.py:238\u001b[0m, in \u001b[0;36mcontract_path\u001b[0;34m(*operands, **kwargs)\u001b[0m\n\u001b[1;32m    236\u001b[0m         size_dict[char] \u001b[39m=\u001b[39m dim\n\u001b[1;32m    237\u001b[0m     \u001b[39melif\u001b[39;00m dim \u001b[39mnot\u001b[39;00m \u001b[39min\u001b[39;00m (\u001b[39m1\u001b[39m, size_dict[char]):\n\u001b[0;32m--> 238\u001b[0m         \u001b[39mraise\u001b[39;00m \u001b[39mValueError\u001b[39;00m(\u001b[39m\"\u001b[39m\u001b[39mSize of label \u001b[39m\u001b[39m'\u001b[39m\u001b[39m{}\u001b[39;00m\u001b[39m'\u001b[39m\u001b[39m for operand \u001b[39m\u001b[39m{}\u001b[39;00m\u001b[39m (\u001b[39m\u001b[39m{}\u001b[39;00m\u001b[39m) does not match previous \u001b[39m\u001b[39m\"\u001b[39m\n\u001b[1;32m    239\u001b[0m                          \u001b[39m\"\u001b[39m\u001b[39mterms (\u001b[39m\u001b[39m{}\u001b[39;00m\u001b[39m).\u001b[39m\u001b[39m\"\u001b[39m\u001b[39m.\u001b[39mformat(char, tnum, size_dict[char], dim))\n\u001b[1;32m    240\u001b[0m \u001b[39melse\u001b[39;00m:\n\u001b[1;32m    241\u001b[0m     size_dict[char] \u001b[39m=\u001b[39m dim\n",
      "\u001b[0;31mValueError\u001b[0m: Size of label 'n' for operand 1 (196) does not match previous terms (12)."
     ]
    }
   ],
   "source": [
    "pred_outputs = model(image[None])"
   ]
  },
  {
   "cell_type": "code",
   "execution_count": 8,
   "metadata": {},
   "outputs": [
    {
     "data": {
      "text/plain": [
       "((1, 196, 768),\n",
       " {'encoded': (1, 196, 768),\n",
       "  'encoder': ({'+mlp': (12, 1, 196, 768),\n",
       "    '+sa': (12, 1, 196, 768),\n",
       "    'mlp': (12, 1, 196, 768),\n",
       "    'sa': (12, 1, 196, 768)},\n",
       "   {('Dense', '__call__'): [(12, 1, 196, 768),\n",
       "     (12, 1, 196, 768),\n",
       "     (12, 1, 196, 768),\n",
       "     (12, 1, 196, 768),\n",
       "     (12, 1, 196, 3072),\n",
       "     (12, 1, 196, 768)]}),\n",
       "  'with_posemb': (1, 196, 768)})"
      ]
     },
     "execution_count": 8,
     "metadata": {},
     "output_type": "execute_result"
    }
   ],
   "source": [
    "jax.tree.map(lambda x: x.shape, pred_outputs)"
   ]
  },
  {
   "cell_type": "code",
   "execution_count": 9,
   "metadata": {},
   "outputs": [
    {
     "data": {
      "text/plain": [
       "False"
      ]
     },
     "execution_count": 9,
     "metadata": {},
     "output_type": "execute_result"
    }
   ],
   "source": [
    "callable(model.transformer.num_layers)"
   ]
  },
  {
   "cell_type": "code",
   "execution_count": 37,
   "metadata": {},
   "outputs": [],
   "source": [
    "def cossim(a, b):\n",
    "    return (a * b).sum() / np.sqrt((a * a).sum() * (b * b).sum() + 1e-8)"
   ]
  },
  {
   "cell_type": "code",
   "execution_count": 10,
   "metadata": {},
   "outputs": [],
   "source": [
    "reference_outputs = test_equality._run_reference(params, image[None])"
   ]
  },
  {
   "cell_type": "code",
   "execution_count": 11,
   "metadata": {},
   "outputs": [
    {
     "name": "stdout",
     "output_type": "stream",
     "text": [
      "{'intermediates': {'Dropout_0': {'__call__': ((1, 196, 768),)}, 'MAPHead_0': {'LayerNorm_0': {'__call__': ((1, 1, 768),)}, 'MlpBlock_0': {'Dense_0': {'__call__': ((1, 1, 3072),)}, 'Dense_1': {'__call__': ((1, 1, 768),)}, 'Dropout_0': {'__call__': ((1, 1, 3072),)}, '__call__': ((1, 1, 768),)}, 'MultiHeadDotProductAttention_0': {'__call__': ((1, 1, 768),), 'key': {'__call__': ((1, 196, 12, 64),)}, 'out': {'__call__': ((1, 1, 768),)}, 'query': {'__call__': ((1, 1, 12, 64),)}, 'value': {'__call__': ((1, 196, 12, 64),)}}, '__call__': ((1, 768),)}, 'Transformer': {'__call__': (((1, 196, 768), {'block00': {'+mlp': (1, 196, 768), '+sa': (1, 196, 768), 'mlp': (1, 196, 768), 'sa': (1, 196, 768)}, 'block01': {'+mlp': (1, 196, 768), '+sa': (1, 196, 768), 'mlp': (1, 196, 768), 'sa': (1, 196, 768)}, 'block02': {'+mlp': (1, 196, 768), '+sa': (1, 196, 768), 'mlp': (1, 196, 768), 'sa': (1, 196, 768)}, 'block03': {'+mlp': (1, 196, 768), '+sa': (1, 196, 768), 'mlp': (1, 196, 768), 'sa': (1, 196, 768)}, 'block04': {'+mlp': (1, 196, 768), '+sa': (1, 196, 768), 'mlp': (1, 196, 768), 'sa': (1, 196, 768)}, 'block05': {'+mlp': (1, 196, 768), '+sa': (1, 196, 768), 'mlp': (1, 196, 768), 'sa': (1, 196, 768)}, 'block06': {'+mlp': (1, 196, 768), '+sa': (1, 196, 768), 'mlp': (1, 196, 768), 'sa': (1, 196, 768)}, 'block07': {'+mlp': (1, 196, 768), '+sa': (1, 196, 768), 'mlp': (1, 196, 768), 'sa': (1, 196, 768)}, 'block08': {'+mlp': (1, 196, 768), '+sa': (1, 196, 768), 'mlp': (1, 196, 768), 'sa': (1, 196, 768)}, 'block09': {'+mlp': (1, 196, 768), '+sa': (1, 196, 768), 'mlp': (1, 196, 768), 'sa': (1, 196, 768)}, 'block10': {'+mlp': (1, 196, 768), '+sa': (1, 196, 768), 'mlp': (1, 196, 768), 'sa': (1, 196, 768)}, 'block11': {'+mlp': (1, 196, 768), '+sa': (1, 196, 768), 'mlp': (1, 196, 768), 'sa': (1, 196, 768)}}),), 'encoder_norm': {'__call__': ((1, 196, 768),)}, 'encoderblock': {'Dropout_0': {'__call__': ((12, 1, 196, 768),)}, 'Dropout_1': {'__call__': ((12, 1, 196, 768),)}, 'LayerNorm_0': {'__call__': ((12, 1, 196, 768),)}, 'LayerNorm_1': {'__call__': ((12, 1, 196, 768),)}, 'MlpBlock_0': {'Dense_0': {'__call__': ((12, 1, 196, 3072),)}, 'Dense_1': {'__call__': ((12, 1, 196, 768),)}, 'Dropout_0': {'__call__': ((12, 1, 196, 3072),)}, '__call__': ((12, 1, 196, 768),)}, 'MultiHeadDotProductAttention_0': {'__call__': ((12, 1, 196, 768),), 'key': {'__call__': ((12, 1, 196, 12, 64),)}, 'out': {'__call__': ((12, 1, 196, 768),)}, 'query': {'__call__': ((12, 1, 196, 12, 64),)}, 'value': {'__call__': ((12, 1, 196, 12, 64),)}}, '__call__': (((12, 1, 196, 768), {'+mlp': (12, 1, 196, 768), '+sa': (12, 1, 196, 768), 'mlp': (12, 1, 196, 768), 'sa': (12, 1, 196, 768)}),)}}, '__call__': (((1, 768), {'encoded': (1, 196, 768), 'encoder': {'block00': {'+mlp': (1, 196, 768), '+sa': (1, 196, 768), 'mlp': (1, 196, 768), 'sa': (1, 196, 768)}, 'block01': {'+mlp': (1, 196, 768), '+sa': (1, 196, 768), 'mlp': (1, 196, 768), 'sa': (1, 196, 768)}, 'block02': {'+mlp': (1, 196, 768), '+sa': (1, 196, 768), 'mlp': (1, 196, 768), 'sa': (1, 196, 768)}, 'block03': {'+mlp': (1, 196, 768), '+sa': (1, 196, 768), 'mlp': (1, 196, 768), 'sa': (1, 196, 768)}, 'block04': {'+mlp': (1, 196, 768), '+sa': (1, 196, 768), 'mlp': (1, 196, 768), 'sa': (1, 196, 768)}, 'block05': {'+mlp': (1, 196, 768), '+sa': (1, 196, 768), 'mlp': (1, 196, 768), 'sa': (1, 196, 768)}, 'block06': {'+mlp': (1, 196, 768), '+sa': (1, 196, 768), 'mlp': (1, 196, 768), 'sa': (1, 196, 768)}, 'block07': {'+mlp': (1, 196, 768), '+sa': (1, 196, 768), 'mlp': (1, 196, 768), 'sa': (1, 196, 768)}, 'block08': {'+mlp': (1, 196, 768), '+sa': (1, 196, 768), 'mlp': (1, 196, 768), 'sa': (1, 196, 768)}, 'block09': {'+mlp': (1, 196, 768), '+sa': (1, 196, 768), 'mlp': (1, 196, 768), 'sa': (1, 196, 768)}, 'block10': {'+mlp': (1, 196, 768), '+sa': (1, 196, 768), 'mlp': (1, 196, 768), 'sa': (1, 196, 768)}, 'block11': {'+mlp': (1, 196, 768), '+sa': (1, 196, 768), 'mlp': (1, 196, 768), 'sa': (1, 196, 768)}}, 'head_input': (1, 768), 'pre_logits': (1, 768), 'pre_logits_2d': (1, 14, 14, 768), 'stem': (1, 14, 14, 768), 'with_posemb': (1, 196, 768)}),), 'embedding': {'__call__': ((1, 14, 14, 768),)}}}\n"
     ]
    }
   ],
   "source": [
    "print(jax.tree.map(lambda x: x.shape, reference_outputs[1]))\n",
    "# print(jax.tree.map(lambda x: x.shape, pred_outputs))"
   ]
  },
  {
   "cell_type": "code",
   "execution_count": 48,
   "metadata": {},
   "outputs": [
    {
     "data": {
      "text/plain": [
       "{'bias': (12, 12, 64), 'kernel': (12, 768, 12, 64)}"
      ]
     },
     "execution_count": 48,
     "metadata": {},
     "output_type": "execute_result"
    }
   ],
   "source": [
    "jax.tree.map(lambda x: x.shape, params['Transformer']['encoderblock']['MultiHeadDotProductAttention_0']['value'])"
   ]
  },
  {
   "cell_type": "code",
   "execution_count": 54,
   "metadata": {},
   "outputs": [
    {
     "data": {
      "text/plain": [
       "array([[[0., 0., 0., ..., 0., 0., 0.],\n",
       "        [0., 0., 0., ..., 0., 0., 0.],\n",
       "        [0., 0., 0., ..., 0., 0., 0.],\n",
       "        ...,\n",
       "        [0., 0., 0., ..., 0., 0., 0.],\n",
       "        [0., 0., 0., ..., 0., 0., 0.],\n",
       "        [0., 0., 0., ..., 0., 0., 0.]],\n",
       "\n",
       "       [[0., 0., 0., ..., 0., 0., 0.],\n",
       "        [0., 0., 0., ..., 0., 0., 0.],\n",
       "        [0., 0., 0., ..., 0., 0., 0.],\n",
       "        ...,\n",
       "        [0., 0., 0., ..., 0., 0., 0.],\n",
       "        [0., 0., 0., ..., 0., 0., 0.],\n",
       "        [0., 0., 0., ..., 0., 0., 0.]],\n",
       "\n",
       "       [[0., 0., 0., ..., 0., 0., 0.],\n",
       "        [0., 0., 0., ..., 0., 0., 0.],\n",
       "        [0., 0., 0., ..., 0., 0., 0.],\n",
       "        ...,\n",
       "        [0., 0., 0., ..., 0., 0., 0.],\n",
       "        [0., 0., 0., ..., 0., 0., 0.],\n",
       "        [0., 0., 0., ..., 0., 0., 0.]],\n",
       "\n",
       "       ...,\n",
       "\n",
       "       [[0., 0., 0., ..., 0., 0., 0.],\n",
       "        [0., 0., 0., ..., 0., 0., 0.],\n",
       "        [0., 0., 0., ..., 0., 0., 0.],\n",
       "        ...,\n",
       "        [0., 0., 0., ..., 0., 0., 0.],\n",
       "        [0., 0., 0., ..., 0., 0., 0.],\n",
       "        [0., 0., 0., ..., 0., 0., 0.]],\n",
       "\n",
       "       [[0., 0., 0., ..., 0., 0., 0.],\n",
       "        [0., 0., 0., ..., 0., 0., 0.],\n",
       "        [0., 0., 0., ..., 0., 0., 0.],\n",
       "        ...,\n",
       "        [0., 0., 0., ..., 0., 0., 0.],\n",
       "        [0., 0., 0., ..., 0., 0., 0.],\n",
       "        [0., 0., 0., ..., 0., 0., 0.]],\n",
       "\n",
       "       [[0., 0., 0., ..., 0., 0., 0.],\n",
       "        [0., 0., 0., ..., 0., 0., 0.],\n",
       "        [0., 0., 0., ..., 0., 0., 0.],\n",
       "        ...,\n",
       "        [0., 0., 0., ..., 0., 0., 0.],\n",
       "        [0., 0., 0., ..., 0., 0., 0.],\n",
       "        [0., 0., 0., ..., 0., 0., 0.]]], dtype=float32)"
      ]
     },
     "execution_count": 54,
     "metadata": {},
     "output_type": "execute_result"
    }
   ],
   "source": [
    "model.transformer.layers.attn.value.kernel - params['Transformer']['encoderblock']['MultiHeadDotProductAttention_0']['value']['kernel'].reshape(12, 768, 768)"
   ]
  },
  {
   "cell_type": "code",
   "execution_count": 69,
   "metadata": {},
   "outputs": [
    {
     "data": {
      "text/plain": [
       "(12, 1, 196, 768)"
      ]
     },
     "execution_count": 69,
     "metadata": {},
     "output_type": "execute_result"
    }
   ],
   "source": [
    "pred_mha[1].shape"
   ]
  },
  {
   "cell_type": "code",
   "execution_count": 76,
   "metadata": {},
   "outputs": [
    {
     "data": {
      "text/plain": [
       "(1, 196, 12, 64)"
      ]
     },
     "execution_count": 76,
     "metadata": {},
     "output_type": "execute_result"
    }
   ],
   "source": [
    "import flax.linen as nn\n",
    "reference_mha = reference_outputs[1]['intermediates']['Transformer']['encoderblock']['MultiHeadDotProductAttention_0']\n",
    "pred_mha =pred_outputs[1]['encoder'][1][('Dense', '__call__')]\n",
    "a1 = nn.dot_product_attention(\n",
    "    reference_mha['query']['__call__'][0][0],\n",
    "    reference_mha['key']['__call__'][0][0],\n",
    "    reference_mha['value']['__call__'][0][0],\n",
    ")\n",
    "a1.shape"
   ]
  },
  {
   "cell_type": "code",
   "execution_count": 77,
   "metadata": {},
   "outputs": [],
   "source": [
    "q = pred_mha[0][0].reshape(reference_mha['query']['__call__'][0][0].shape)\n",
    "k = pred_mha[1][0].reshape(reference_mha['key']['__call__'][0][0].shape)\n",
    "v = pred_mha[2][0].reshape(reference_mha['value']['__call__'][0][0].shape)\n",
    "q = q / jnp.sqrt(q.shape[-1])\n",
    "attn_logits = jnp.einsum(\"bqnh, bknh -> bnqk\", q, k)\n",
    "attn_weights = nn.softmax(attn_logits, axis=-1)\n",
    "out = jnp.einsum(\"bnqk, bknh -> bqnh\", attn_weights, v)"
   ]
  },
  {
   "cell_type": "code",
   "execution_count": 78,
   "metadata": {},
   "outputs": [
    {
     "data": {
      "text/plain": [
       "Array(1., dtype=float32)"
      ]
     },
     "execution_count": 78,
     "metadata": {},
     "output_type": "execute_result"
    }
   ],
   "source": [
    "cossim(out, a1)"
   ]
  },
  {
   "cell_type": "code",
   "execution_count": 74,
   "metadata": {},
   "outputs": [
    {
     "data": {
      "text/plain": [
       "Array(0.9999999, dtype=float32)"
      ]
     },
     "execution_count": 74,
     "metadata": {},
     "output_type": "execute_result"
    }
   ],
   "source": [
    "cossim(attn_weights, a1)"
   ]
  },
  {
   "cell_type": "code",
   "execution_count": 60,
   "metadata": {},
   "outputs": [
    {
     "data": {
      "text/plain": [
       "Array(0.81712836, dtype=float32)"
      ]
     },
     "execution_count": 60,
     "metadata": {},
     "output_type": "execute_result"
    }
   ],
   "source": [
    "l1 = reference_outputs[1]['intermediates']['Transformer']['encoderblock']['MultiHeadDotProductAttention_0']['out']['__call__'][0][0]\n",
    "l2 = pred_outputs[1]['encoder'][1][('Dense', '__call__')][3][0].reshape(l1.shape)\n",
    "cossim(l1, l2)"
   ]
  },
  {
   "cell_type": "code",
   "execution_count": 41,
   "metadata": {},
   "outputs": [],
   "source": []
  },
  {
   "cell_type": "code",
   "execution_count": 44,
   "metadata": {},
   "outputs": [
    {
     "data": {
      "text/plain": [
       "Array(-0.01933866, dtype=float32)"
      ]
     },
     "execution_count": 44,
     "metadata": {},
     "output_type": "execute_result"
    }
   ],
   "source": [
    "cossim(l1, l2)"
   ]
  },
  {
   "cell_type": "code",
   "execution_count": 13,
   "metadata": {},
   "outputs": [
    {
     "data": {
      "text/plain": [
       "['__annotations__',\n",
       " '__call__',\n",
       " '__class__',\n",
       " '__dataclass_fields__',\n",
       " '__dataclass_params__',\n",
       " '__delattr__',\n",
       " '__dict__',\n",
       " '__dir__',\n",
       " '__doc__',\n",
       " '__eq__',\n",
       " '__format__',\n",
       " '__ge__',\n",
       " '__getattribute__',\n",
       " '__getstate__',\n",
       " '__gt__',\n",
       " '__hash__',\n",
       " '__init__',\n",
       " '__init_subclass__',\n",
       " '__le__',\n",
       " '__lt__',\n",
       " '__match_args__',\n",
       " '__module__',\n",
       " '__ne__',\n",
       " '__new__',\n",
       " '__reduce__',\n",
       " '__reduce_ex__',\n",
       " '__repr__',\n",
       " '__setattr__',\n",
       " '__sizeof__',\n",
       " '__str__',\n",
       " '__subclasshook__',\n",
       " '__weakref__',\n",
       " 'attn',\n",
       " 'create',\n",
       " 'drop1',\n",
       " 'drop2',\n",
       " 'ln1',\n",
       " 'ln2',\n",
       " 'mlp']"
      ]
     },
     "execution_count": 13,
     "metadata": {},
     "output_type": "execute_result"
    }
   ],
   "source": [
    "dir(model.transformer.layers)"
   ]
  },
  {
   "cell_type": "code",
   "execution_count": null,
   "metadata": {},
   "outputs": [
    {
     "ename": "TypeError",
     "evalue": "tuple indices must be integers or slices, not str",
     "output_type": "error",
     "traceback": [
      "\u001b[0;31m---------------------------------------------------------------------------\u001b[0m",
      "\u001b[0;31mTypeError\u001b[0m                                 Traceback (most recent call last)",
      "\u001b[1;32m/home/dibya/nfs/practice/transformer_from_scratch/test.ipynb Cell 14\u001b[0m line \u001b[0;36m1\n\u001b[0;32m----> <a href='vscode-notebook-cell://ssh-remote%2Btpuv4-tpu/home/dibya/nfs/practice/transformer_from_scratch/test.ipynb#X32sdnNjb2RlLXJlbW90ZQ%3D%3D?line=0'>1</a>\u001b[0m p \u001b[39m=\u001b[39m pred_outputs[\u001b[39m1\u001b[39;49m][\u001b[39m'\u001b[39;49m\u001b[39mencoder\u001b[39;49m\u001b[39m'\u001b[39;49m][\u001b[39m'\u001b[39;49m\u001b[39m+sa\u001b[39;49m\u001b[39m'\u001b[39;49m][\u001b[39m0\u001b[39m]\n\u001b[1;32m      <a href='vscode-notebook-cell://ssh-remote%2Btpuv4-tpu/home/dibya/nfs/practice/transformer_from_scratch/test.ipynb#X32sdnNjb2RlLXJlbW90ZQ%3D%3D?line=1'>2</a>\u001b[0m r \u001b[39m=\u001b[39m reference_outputs[\u001b[39m1\u001b[39m][\u001b[39m'\u001b[39m\u001b[39mencoder\u001b[39m\u001b[39m'\u001b[39m][\u001b[39m'\u001b[39m\u001b[39mblock00\u001b[39m\u001b[39m'\u001b[39m][\u001b[39m'\u001b[39m\u001b[39m+sa\u001b[39m\u001b[39m'\u001b[39m]\n\u001b[1;32m      <a href='vscode-notebook-cell://ssh-remote%2Btpuv4-tpu/home/dibya/nfs/practice/transformer_from_scratch/test.ipynb#X32sdnNjb2RlLXJlbW90ZQ%3D%3D?line=2'>3</a>\u001b[0m cossim(p, r)\n",
      "\u001b[0;31mTypeError\u001b[0m: tuple indices must be integers or slices, not str"
     ]
    }
   ],
   "source": [
    "p = pred_outputs[1]['encoder']['+sa'][0]\n",
    "r = reference_outputs[1]['encoder']['block00']['+sa']\n",
    "cossim(p, r)"
   ]
  },
  {
   "cell_type": "code",
   "execution_count": 21,
   "metadata": {},
   "outputs": [
    {
     "name": "stdout",
     "output_type": "stream",
     "text": [
      "1.0\n",
      "0.4148036\n"
     ]
    }
   ],
   "source": [
    "def cossim(a, b):\n",
    "    return (a * b).sum() / np.sqrt((a * a).sum() * (b * b).sum() + 1e-8)\n",
    "print(cossim(reference_outputs[1]['with_posemb'], pred_outputs[1]['with_posemb']))\n",
    "print(cossim(reference_outputs[1]['encoded'], pred_outputs[1]['encoded']))"
   ]
  },
  {
   "cell_type": "code",
   "execution_count": 12,
   "metadata": {},
   "outputs": [],
   "source": [
    "from vit import image_embedding"
   ]
  },
  {
   "cell_type": "code",
   "execution_count": 13,
   "metadata": {},
   "outputs": [],
   "source": [
    "embedding = image_embedding.ImageEmbedding.create_from_pretrained(params, 16)"
   ]
  },
  {
   "cell_type": "code",
   "execution_count": 14,
   "metadata": {},
   "outputs": [
    {
     "data": {
      "text/plain": [
       "2.866363e-05"
      ]
     },
     "execution_count": 14,
     "metadata": {},
     "output_type": "execute_result"
    }
   ],
   "source": [
    "import numpy as np\n",
    "np.linalg.norm(\n",
    "    embedding(image[None]) - reference_outputs[1]['with_posemb']\n",
    "    )"
   ]
  },
  {
   "cell_type": "code",
   "execution_count": null,
   "metadata": {},
   "outputs": [],
   "source": []
  },
  {
   "cell_type": "code",
   "execution_count": 15,
   "metadata": {},
   "outputs": [
    {
     "name": "stderr",
     "output_type": "stream",
     "text": [
      "/nfs/nfs2/users/dibya/miniconda3/envs/lv_env/lib/python3.11/site-packages/orbax/checkpoint/_src/serialization/type_handlers.py:1136: UserWarning: Couldn't find sharding info under RestoreArgs. Populating sharding info from sharding file. Please note restoration time will be slightly increased due to reading from file instead of directly from RestoreArgs. Note also that this option is unsafe when restoring on a different topology than the checkpoint was saved with.\n",
      "  warnings.warn(\n",
      "ERROR:root:Device TPU_0(process=0,(0,0,0,0)) was not found in jax.local_devices().\n",
      "ERROR:root:Device TPU_0(process=0,(0,0,0,0)) was not found in jax.local_devices().\n",
      "ERROR:root:Device TPU_0(process=0,(0,0,0,0)) was not found in jax.local_devices().\n",
      "ERROR:root:Device TPU_0(process=0,(0,0,0,0)) was not found in jax.local_devices().\n",
      "ERROR:root:Device TPU_0(process=0,(0,0,0,0)) was not found in jax.local_devices().\n",
      "ERROR:root:Device TPU_0(process=0,(0,0,0,0)) was not found in jax.local_devices().\n",
      "ERROR:root:Device TPU_0(process=0,(0,0,0,0)) was not found in jax.local_devices().\n",
      "ERROR:root:Device TPU_0(process=0,(0,0,0,0)) was not found in jax.local_devices().\n",
      "ERROR:root:Device TPU_0(process=0,(0,0,0,0)) was not found in jax.local_devices().\n",
      "ERROR:root:Device TPU_0(process=0,(0,0,0,0)) was not found in jax.local_devices().\n",
      "ERROR:root:Device TPU_0(process=0,(0,0,0,0)) was not found in jax.local_devices().\n",
      "ERROR:root:Device TPU_0(process=0,(0,0,0,0)) was not found in jax.local_devices().\n",
      "ERROR:root:Device TPU_0(process=0,(0,0,0,0)) was not found in jax.local_devices().\n",
      "ERROR:root:Device TPU_0(process=0,(0,0,0,0)) was not found in jax.local_devices().\n",
      "ERROR:root:Device TPU_0(process=0,(0,0,0,0)) was not found in jax.local_devices().\n",
      "ERROR:root:Device TPU_0(process=0,(0,0,0,0)) was not found in jax.local_devices().\n",
      "ERROR:root:Device TPU_0(process=0,(0,0,0,0)) was not found in jax.local_devices().\n",
      "ERROR:root:Device TPU_0(process=0,(0,0,0,0)) was not found in jax.local_devices().\n",
      "ERROR:root:Device TPU_0(process=0,(0,0,0,0)) was not found in jax.local_devices().\n",
      "ERROR:root:Device TPU_0(process=0,(0,0,0,0)) was not found in jax.local_devices().\n",
      "ERROR:root:Device TPU_0(process=0,(0,0,0,0)) was not found in jax.local_devices().\n",
      "ERROR:root:Device TPU_0(process=0,(0,0,0,0)) was not found in jax.local_devices().\n",
      "ERROR:root:Device TPU_0(process=0,(0,0,0,0)) was not found in jax.local_devices().\n",
      "ERROR:root:Device TPU_0(process=0,(0,0,0,0)) was not found in jax.local_devices().\n",
      "ERROR:root:Device TPU_0(process=0,(0,0,0,0)) was not found in jax.local_devices().\n",
      "ERROR:root:Device TPU_0(process=0,(0,0,0,0)) was not found in jax.local_devices().\n",
      "ERROR:root:Device TPU_0(process=0,(0,0,0,0)) was not found in jax.local_devices().\n",
      "ERROR:root:Device TPU_0(process=0,(0,0,0,0)) was not found in jax.local_devices().\n",
      "ERROR:root:Device TPU_0(process=0,(0,0,0,0)) was not found in jax.local_devices().\n",
      "ERROR:root:Device TPU_0(process=0,(0,0,0,0)) was not found in jax.local_devices().\n",
      "ERROR:root:Device TPU_0(process=0,(0,0,0,0)) was not found in jax.local_devices().\n",
      "ERROR:root:Device TPU_0(process=0,(0,0,0,0)) was not found in jax.local_devices().\n",
      "ERROR:root:Device TPU_0(process=0,(0,0,0,0)) was not found in jax.local_devices().\n",
      "ERROR:root:Device TPU_0(process=0,(0,0,0,0)) was not found in jax.local_devices().\n",
      "ERROR:root:Device TPU_0(process=0,(0,0,0,0)) was not found in jax.local_devices().\n",
      "ERROR:root:Device TPU_0(process=0,(0,0,0,0)) was not found in jax.local_devices().\n",
      "ERROR:root:Device TPU_0(process=0,(0,0,0,0)) was not found in jax.local_devices().\n",
      "ERROR:root:Device TPU_0(process=0,(0,0,0,0)) was not found in jax.local_devices().\n",
      "ERROR:root:Device TPU_0(process=0,(0,0,0,0)) was not found in jax.local_devices().\n"
     ]
    },
    {
     "name": "stderr",
     "output_type": "stream",
     "text": [
      "ERROR:root:Device TPU_0(process=0,(0,0,0,0)) was not found in jax.local_devices().\n",
      "ERROR:root:Device TPU_0(process=0,(0,0,0,0)) was not found in jax.local_devices().\n",
      "ERROR:root:Device TPU_0(process=0,(0,0,0,0)) was not found in jax.local_devices().\n",
      "ERROR:root:Device TPU_0(process=0,(0,0,0,0)) was not found in jax.local_devices().\n",
      "ERROR:root:Device TPU_0(process=0,(0,0,0,0)) was not found in jax.local_devices().\n",
      "ERROR:root:Device TPU_0(process=0,(0,0,0,0)) was not found in jax.local_devices().\n",
      "ERROR:root:Device TPU_0(process=0,(0,0,0,0)) was not found in jax.local_devices().\n",
      "ERROR:root:Device TPU_0(process=0,(0,0,0,0)) was not found in jax.local_devices().\n",
      "ERROR:root:Device TPU_0(process=0,(0,0,0,0)) was not found in jax.local_devices().\n",
      "ERROR:root:Device TPU_0(process=0,(0,0,0,0)) was not found in jax.local_devices().\n",
      "ERROR:root:Device TPU_0(process=0,(0,0,0,0)) was not found in jax.local_devices().\n",
      "ERROR:root:Device TPU_0(process=0,(0,0,0,0)) was not found in jax.local_devices().\n",
      "ERROR:root:Device TPU_0(process=0,(0,0,0,0)) was not found in jax.local_devices().\n",
      "ERROR:root:Device TPU_0(process=0,(0,0,0,0)) was not found in jax.local_devices().\n",
      "ERROR:root:Device TPU_0(process=0,(0,0,0,0)) was not found in jax.local_devices().\n",
      "ERROR:root:Device TPU_0(process=0,(0,0,0,0)) was not found in jax.local_devices().\n"
     ]
    },
    {
     "ename": "ValueError",
     "evalue": "sharding passed to deserialization should be specified, concrete and an instance of `jax.sharding.Sharding`. Got None",
     "output_type": "error",
     "traceback": [
      "\u001b[0;31m---------------------------------------------------------------------------\u001b[0m",
      "\u001b[0;31mValueError\u001b[0m                                Traceback (most recent call last)",
      "\u001b[1;32m/home/dibya/nfs/practice/transformer_from_scratch/test.ipynb Cell 17\u001b[0m line \u001b[0;36m2\n\u001b[1;32m      <a href='vscode-notebook-cell://ssh-remote%2Btpuv4-tpu/home/dibya/nfs/practice/transformer_from_scratch/test.ipynb#X14sdnNjb2RlLXJlbW90ZQ%3D%3D?line=0'>1</a>\u001b[0m \u001b[39mimport\u001b[39;00m \u001b[39mutils\u001b[39;00m\n\u001b[0;32m----> <a href='vscode-notebook-cell://ssh-remote%2Btpuv4-tpu/home/dibya/nfs/practice/transformer_from_scratch/test.ipynb#X14sdnNjb2RlLXJlbW90ZQ%3D%3D?line=1'>2</a>\u001b[0m expected_outputs \u001b[39m=\u001b[39m utils\u001b[39m.\u001b[39;49mload_pytree(\u001b[39m'\u001b[39;49m\u001b[39mvit/expected_output/\u001b[39;49m\u001b[39m'\u001b[39;49m)\n",
      "File \u001b[0;32m/nfs/nfs2/users/dibya/practice/transformer_from_scratch/utils.py:50\u001b[0m, in \u001b[0;36mload_pytree\u001b[0;34m(path, target)\u001b[0m\n\u001b[1;32m     45\u001b[0m \u001b[39mif\u001b[39;00m target \u001b[39mis\u001b[39;00m \u001b[39mNone\u001b[39;00m:\n\u001b[1;32m     46\u001b[0m     target \u001b[39m=\u001b[39m jax\u001b[39m.\u001b[39mtree\u001b[39m.\u001b[39mmap(\n\u001b[1;32m     47\u001b[0m         \u001b[39mlambda\u001b[39;00m x: jax\u001b[39m.\u001b[39mShapeDtypeStruct(x\u001b[39m.\u001b[39mshape, x\u001b[39m.\u001b[39mdtype),\n\u001b[1;32m     48\u001b[0m         checkpointer\u001b[39m.\u001b[39mmetadata(path),\n\u001b[1;32m     49\u001b[0m     )\n\u001b[0;32m---> 50\u001b[0m \u001b[39mreturn\u001b[39;00m checkpointer\u001b[39m.\u001b[39;49mrestore(path, target\u001b[39m=\u001b[39;49mtarget)\n",
      "File \u001b[0;32m/nfs/nfs2/users/dibya/miniconda3/envs/lv_env/lib/python3.11/site-packages/orbax/checkpoint/_src/checkpointers/standard_checkpointer.py:144\u001b[0m, in \u001b[0;36mStandardCheckpointer.restore\u001b[0;34m(self, directory, target, strict)\u001b[0m\n\u001b[1;32m    117\u001b[0m \u001b[39mdef\u001b[39;00m \u001b[39mrestore\u001b[39m(\n\u001b[1;32m    118\u001b[0m     \u001b[39mself\u001b[39m,\n\u001b[1;32m    119\u001b[0m     directory: epath\u001b[39m.\u001b[39mPathLike,\n\u001b[0;32m   (...)\u001b[0m\n\u001b[1;32m    122\u001b[0m     strict: \u001b[39mbool\u001b[39m \u001b[39m=\u001b[39m \u001b[39mTrue\u001b[39;00m,\n\u001b[1;32m    123\u001b[0m ) \u001b[39m-\u001b[39m\u001b[39m>\u001b[39m Any:\n\u001b[1;32m    124\u001b[0m \u001b[39m  \u001b[39m\u001b[39m\"\"\"Restores a checkpoint.\u001b[39;00m\n\u001b[1;32m    125\u001b[0m \n\u001b[1;32m    126\u001b[0m \u001b[39m  Args:\u001b[39;00m\n\u001b[0;32m   (...)\u001b[0m\n\u001b[1;32m    142\u001b[0m \u001b[39m    The restored checkpoint.\u001b[39;00m\n\u001b[1;32m    143\u001b[0m \u001b[39m  \"\"\"\u001b[39;00m\n\u001b[0;32m--> 144\u001b[0m   \u001b[39mreturn\u001b[39;00m \u001b[39msuper\u001b[39;49m()\u001b[39m.\u001b[39;49mrestore(\n\u001b[1;32m    145\u001b[0m       directory, args\u001b[39m=\u001b[39;49mStandardRestore(target, strict\u001b[39m=\u001b[39;49mstrict)\n\u001b[1;32m    146\u001b[0m   )\n",
      "File \u001b[0;32m/nfs/nfs2/users/dibya/miniconda3/envs/lv_env/lib/python3.11/site-packages/orbax/checkpoint/_src/checkpointers/async_checkpointer.py:433\u001b[0m, in \u001b[0;36mAsyncCheckpointer.restore\u001b[0;34m(self, directory, *args, **kwargs)\u001b[0m\n\u001b[1;32m    431\u001b[0m \u001b[39m\u001b[39m\u001b[39m\"\"\"See superclass documentation.\"\"\"\u001b[39;00m\n\u001b[1;32m    432\u001b[0m \u001b[39mself\u001b[39m\u001b[39m.\u001b[39mwait_until_finished()\n\u001b[0;32m--> 433\u001b[0m \u001b[39mreturn\u001b[39;00m \u001b[39msuper\u001b[39;49m()\u001b[39m.\u001b[39;49mrestore(directory, \u001b[39m*\u001b[39;49margs, \u001b[39m*\u001b[39;49m\u001b[39m*\u001b[39;49mkwargs)\n",
      "File \u001b[0;32m/nfs/nfs2/users/dibya/miniconda3/envs/lv_env/lib/python3.11/site-packages/orbax/checkpoint/_src/checkpointers/checkpointer.py:238\u001b[0m, in \u001b[0;36mCheckpointer.restore\u001b[0;34m(self, directory, *args, **kwargs)\u001b[0m\n\u001b[1;32m    236\u001b[0m logging\u001b[39m.\u001b[39minfo(\u001b[39m'\u001b[39m\u001b[39mRestoring checkpoint from \u001b[39m\u001b[39m%s\u001b[39;00m\u001b[39m.\u001b[39m\u001b[39m'\u001b[39m, directory)\n\u001b[1;32m    237\u001b[0m ckpt_args \u001b[39m=\u001b[39m construct_checkpoint_args(\u001b[39mself\u001b[39m\u001b[39m.\u001b[39m_handler, \u001b[39mFalse\u001b[39;00m, \u001b[39m*\u001b[39margs, \u001b[39m*\u001b[39m\u001b[39m*\u001b[39mkwargs)\n\u001b[0;32m--> 238\u001b[0m restored \u001b[39m=\u001b[39m \u001b[39mself\u001b[39;49m\u001b[39m.\u001b[39;49m_restore(directory, args\u001b[39m=\u001b[39;49mckpt_args)\n\u001b[1;32m    239\u001b[0m logging\u001b[39m.\u001b[39minfo(\u001b[39m'\u001b[39m\u001b[39mFinished restoring checkpoint from \u001b[39m\u001b[39m%s\u001b[39;00m\u001b[39m.\u001b[39m\u001b[39m'\u001b[39m, directory)\n\u001b[1;32m    240\u001b[0m multihost\u001b[39m.\u001b[39msync_global_processes(\n\u001b[1;32m    241\u001b[0m     multihost\u001b[39m.\u001b[39munique_barrier_key(\n\u001b[1;32m    242\u001b[0m         \u001b[39m'\u001b[39m\u001b[39mCheckpointer:restore\u001b[39m\u001b[39m'\u001b[39m,\n\u001b[0;32m   (...)\u001b[0m\n\u001b[1;32m    245\u001b[0m     processes\u001b[39m=\u001b[39m\u001b[39mself\u001b[39m\u001b[39m.\u001b[39m_active_processes,\n\u001b[1;32m    246\u001b[0m )\n",
      "File \u001b[0;32m/nfs/nfs2/users/dibya/miniconda3/envs/lv_env/lib/python3.11/site-packages/orbax/checkpoint/_src/checkpointers/checkpointer.py:252\u001b[0m, in \u001b[0;36mCheckpointer._restore\u001b[0;34m(self, directory, args)\u001b[0m\n\u001b[1;32m    249\u001b[0m \u001b[39mdef\u001b[39;00m \u001b[39m_restore\u001b[39m(\n\u001b[1;32m    250\u001b[0m     \u001b[39mself\u001b[39m, directory: epath\u001b[39m.\u001b[39mPathLike, args: checkpoint_args\u001b[39m.\u001b[39mCheckpointArgs\n\u001b[1;32m    251\u001b[0m ) \u001b[39m-\u001b[39m\u001b[39m>\u001b[39m Any:\n\u001b[0;32m--> 252\u001b[0m   \u001b[39mreturn\u001b[39;00m \u001b[39mself\u001b[39;49m\u001b[39m.\u001b[39;49m_handler\u001b[39m.\u001b[39;49mrestore(directory, args\u001b[39m=\u001b[39;49margs)\n",
      "File \u001b[0;32m/nfs/nfs2/users/dibya/miniconda3/envs/lv_env/lib/python3.11/site-packages/orbax/checkpoint/_src/handlers/standard_checkpoint_handler.py:236\u001b[0m, in \u001b[0;36mStandardCheckpointHandler.restore\u001b[0;34m(self, directory, item, args)\u001b[0m\n\u001b[1;32m    234\u001b[0m \u001b[39mif\u001b[39;00m \u001b[39mnot\u001b[39;00m args\u001b[39m.\u001b[39mstrict:\n\u001b[1;32m    235\u001b[0m   restore_args \u001b[39m=\u001b[39m jax\u001b[39m.\u001b[39mtree\u001b[39m.\u001b[39mmap(_replace_strict, restore_args)\n\u001b[0;32m--> 236\u001b[0m \u001b[39mreturn\u001b[39;00m \u001b[39mself\u001b[39;49m\u001b[39m.\u001b[39;49m_impl\u001b[39m.\u001b[39;49mrestore(\n\u001b[1;32m    237\u001b[0m     directory,\n\u001b[1;32m    238\u001b[0m     args\u001b[39m=\u001b[39;49mpytree_checkpoint_handler\u001b[39m.\u001b[39;49mPyTreeRestoreArgs(\n\u001b[1;32m    239\u001b[0m         item\u001b[39m=\u001b[39;49margs\u001b[39m.\u001b[39;49mitem, restore_args\u001b[39m=\u001b[39;49mrestore_args\n\u001b[1;32m    240\u001b[0m     ),\n\u001b[1;32m    241\u001b[0m )\n",
      "File \u001b[0;32m/nfs/nfs2/users/dibya/miniconda3/envs/lv_env/lib/python3.11/site-packages/orbax/checkpoint/_src/handlers/pytree_checkpoint_handler.py:785\u001b[0m, in \u001b[0;36mPyTreeCheckpointHandler.restore\u001b[0;34m(self, directory, item, restore_args, transforms, transforms_default_to_original, legacy_transform_fn, args)\u001b[0m\n\u001b[1;32m    775\u001b[0m \u001b[39mif\u001b[39;00m (\n\u001b[1;32m    776\u001b[0m     (directory \u001b[39m/\u001b[39m PYTREE_METADATA_FILE)\u001b[39m.\u001b[39mexists()\n\u001b[1;32m    777\u001b[0m     \u001b[39mand\u001b[39;00m can_ignore_aggregate_file\n\u001b[1;32m    778\u001b[0m     \u001b[39mand\u001b[39;00m transforms \u001b[39mis\u001b[39;00m \u001b[39mNone\u001b[39;00m\n\u001b[1;32m    779\u001b[0m     \u001b[39mand\u001b[39;00m legacy_transform_fn \u001b[39mis\u001b[39;00m \u001b[39mNone\u001b[39;00m\n\u001b[1;32m    780\u001b[0m ):\n\u001b[1;32m    781\u001b[0m   args \u001b[39m=\u001b[39m BasePyTreeRestoreArgs(\n\u001b[1;32m    782\u001b[0m       item,\n\u001b[1;32m    783\u001b[0m       restore_args\u001b[39m=\u001b[39mrestore_args,\n\u001b[1;32m    784\u001b[0m   )\n\u001b[0;32m--> 785\u001b[0m   \u001b[39mreturn\u001b[39;00m \u001b[39mself\u001b[39;49m\u001b[39m.\u001b[39;49m_handler_impl\u001b[39m.\u001b[39;49mrestore(directory, args\u001b[39m=\u001b[39;49margs)\n\u001b[1;32m    787\u001b[0m logging\u001b[39m.\u001b[39mvlog(\u001b[39m1\u001b[39m, \u001b[39m'\u001b[39m\u001b[39mdirectory=\u001b[39m\u001b[39m%s\u001b[39;00m\u001b[39m, restore_args=\u001b[39m\u001b[39m%s\u001b[39;00m\u001b[39m'\u001b[39m, directory, restore_args)\n\u001b[1;32m    788\u001b[0m \u001b[39mif\u001b[39;00m \u001b[39mnot\u001b[39;00m directory\u001b[39m.\u001b[39mexists():\n",
      "File \u001b[0;32m/nfs/nfs2/users/dibya/miniconda3/envs/lv_env/lib/python3.11/site-packages/orbax/checkpoint/_src/handlers/base_pytree_checkpoint_handler.py:704\u001b[0m, in \u001b[0;36mBasePyTreeCheckpointHandler.restore\u001b[0;34m(self, directory, args)\u001b[0m\n\u001b[1;32m    696\u001b[0m param_infos \u001b[39m=\u001b[39m \u001b[39mself\u001b[39m\u001b[39m.\u001b[39m_get_param_infos(\n\u001b[1;32m    697\u001b[0m     item\u001b[39m=\u001b[39mvalue_metadata_tree,\n\u001b[1;32m    698\u001b[0m     directory\u001b[39m=\u001b[39mdirectory,\n\u001b[0;32m   (...)\u001b[0m\n\u001b[1;32m    701\u001b[0m     raise_array_data_missing_error\u001b[39m=\u001b[39mraise_array_data_missing_error,\n\u001b[1;32m    702\u001b[0m )\n\u001b[1;32m    703\u001b[0m \u001b[39m# Begin restore.\u001b[39;00m\n\u001b[0;32m--> 704\u001b[0m tree_memory_size, restored_item \u001b[39m=\u001b[39m asyncio_utils\u001b[39m.\u001b[39;49mrun_sync(\n\u001b[1;32m    705\u001b[0m     \u001b[39mself\u001b[39;49m\u001b[39m.\u001b[39;49m_maybe_deserialize(\n\u001b[1;32m    706\u001b[0m         item, value_metadata_tree, param_infos, restore_args\n\u001b[1;32m    707\u001b[0m     )\n\u001b[1;32m    708\u001b[0m )\n\u001b[1;32m    710\u001b[0m \u001b[39mif\u001b[39;00m logging\u001b[39m.\u001b[39mvlog_is_on(\u001b[39m1\u001b[39m):\n\u001b[1;32m    711\u001b[0m   logging\u001b[39m.\u001b[39mvlog(\u001b[39m1\u001b[39m, \u001b[39m'\u001b[39m\u001b[39mparam_infos: \u001b[39m\u001b[39m%s\u001b[39;00m\u001b[39m'\u001b[39m, param_infos)\n",
      "File \u001b[0;32m/nfs/nfs2/users/dibya/miniconda3/envs/lv_env/lib/python3.11/site-packages/orbax/checkpoint/_src/asyncio_utils.py:50\u001b[0m, in \u001b[0;36mrun_sync\u001b[0;34m(coro, enable_nest_asyncio)\u001b[0m\n\u001b[1;32m     48\u001b[0m \u001b[39mexcept\u001b[39;00m \u001b[39mRuntimeError\u001b[39;00m:\n\u001b[1;32m     49\u001b[0m   \u001b[39mpass\u001b[39;00m\n\u001b[0;32m---> 50\u001b[0m \u001b[39mreturn\u001b[39;00m asyncio\u001b[39m.\u001b[39;49mrun(coro)\n",
      "File \u001b[0;32m/nfs/nfs2/users/dibya/miniconda3/envs/lv_env/lib/python3.11/site-packages/nest_asyncio.py:30\u001b[0m, in \u001b[0;36m_patch_asyncio.<locals>.run\u001b[0;34m(main, debug)\u001b[0m\n\u001b[1;32m     28\u001b[0m task \u001b[39m=\u001b[39m asyncio\u001b[39m.\u001b[39mensure_future(main)\n\u001b[1;32m     29\u001b[0m \u001b[39mtry\u001b[39;00m:\n\u001b[0;32m---> 30\u001b[0m     \u001b[39mreturn\u001b[39;00m loop\u001b[39m.\u001b[39;49mrun_until_complete(task)\n\u001b[1;32m     31\u001b[0m \u001b[39mfinally\u001b[39;00m:\n\u001b[1;32m     32\u001b[0m     \u001b[39mif\u001b[39;00m \u001b[39mnot\u001b[39;00m task\u001b[39m.\u001b[39mdone():\n",
      "File \u001b[0;32m/nfs/nfs2/users/dibya/miniconda3/envs/lv_env/lib/python3.11/site-packages/nest_asyncio.py:98\u001b[0m, in \u001b[0;36m_patch_loop.<locals>.run_until_complete\u001b[0;34m(self, future)\u001b[0m\n\u001b[1;32m     95\u001b[0m \u001b[39mif\u001b[39;00m \u001b[39mnot\u001b[39;00m f\u001b[39m.\u001b[39mdone():\n\u001b[1;32m     96\u001b[0m     \u001b[39mraise\u001b[39;00m \u001b[39mRuntimeError\u001b[39;00m(\n\u001b[1;32m     97\u001b[0m         \u001b[39m'\u001b[39m\u001b[39mEvent loop stopped before Future completed.\u001b[39m\u001b[39m'\u001b[39m)\n\u001b[0;32m---> 98\u001b[0m \u001b[39mreturn\u001b[39;00m f\u001b[39m.\u001b[39;49mresult()\n",
      "File \u001b[0;32m/nfs/nfs2/users/dibya/miniconda3/envs/lv_env/lib/python3.11/asyncio/futures.py:203\u001b[0m, in \u001b[0;36mFuture.result\u001b[0;34m(self)\u001b[0m\n\u001b[1;32m    201\u001b[0m \u001b[39mself\u001b[39m\u001b[39m.\u001b[39m__log_traceback \u001b[39m=\u001b[39m \u001b[39mFalse\u001b[39;00m\n\u001b[1;32m    202\u001b[0m \u001b[39mif\u001b[39;00m \u001b[39mself\u001b[39m\u001b[39m.\u001b[39m_exception \u001b[39mis\u001b[39;00m \u001b[39mnot\u001b[39;00m \u001b[39mNone\u001b[39;00m:\n\u001b[0;32m--> 203\u001b[0m     \u001b[39mraise\u001b[39;00m \u001b[39mself\u001b[39m\u001b[39m.\u001b[39m_exception\u001b[39m.\u001b[39mwith_traceback(\u001b[39mself\u001b[39m\u001b[39m.\u001b[39m_exception_tb)\n\u001b[1;32m    204\u001b[0m \u001b[39mreturn\u001b[39;00m \u001b[39mself\u001b[39m\u001b[39m.\u001b[39m_result\n",
      "File \u001b[0;32m/nfs/nfs2/users/dibya/miniconda3/envs/lv_env/lib/python3.11/asyncio/tasks.py:279\u001b[0m, in \u001b[0;36mTask.__step\u001b[0;34m(***failed resolving arguments***)\u001b[0m\n\u001b[1;32m    277\u001b[0m         result \u001b[39m=\u001b[39m coro\u001b[39m.\u001b[39msend(\u001b[39mNone\u001b[39;00m)\n\u001b[1;32m    278\u001b[0m     \u001b[39melse\u001b[39;00m:\n\u001b[0;32m--> 279\u001b[0m         result \u001b[39m=\u001b[39m coro\u001b[39m.\u001b[39mthrow(exc)\n\u001b[1;32m    280\u001b[0m \u001b[39mexcept\u001b[39;00m \u001b[39mStopIteration\u001b[39;00m \u001b[39mas\u001b[39;00m exc:\n\u001b[1;32m    281\u001b[0m     \u001b[39mif\u001b[39;00m \u001b[39mself\u001b[39m\u001b[39m.\u001b[39m_must_cancel:\n\u001b[1;32m    282\u001b[0m         \u001b[39m# Task is cancelled right before coro stops.\u001b[39;00m\n",
      "File \u001b[0;32m/nfs/nfs2/users/dibya/miniconda3/envs/lv_env/lib/python3.11/site-packages/orbax/checkpoint/_src/handlers/base_pytree_checkpoint_handler.py:552\u001b[0m, in \u001b[0;36mBasePyTreeCheckpointHandler._maybe_deserialize\u001b[0;34m(self, item, metadata, param_infos, restore_args)\u001b[0m\n\u001b[1;32m    548\u001b[0m \u001b[39mfor\u001b[39;00m request \u001b[39min\u001b[39;00m batch_requests:\n\u001b[1;32m    549\u001b[0m   deserialized_batches_ops\u001b[39m.\u001b[39mappend(\n\u001b[1;32m    550\u001b[0m       request\u001b[39m.\u001b[39mhandler\u001b[39m.\u001b[39mdeserialize(request\u001b[39m.\u001b[39minfos, request\u001b[39m.\u001b[39margs)\n\u001b[1;32m    551\u001b[0m   )\n\u001b[0;32m--> 552\u001b[0m deserialized_batches \u001b[39m+\u001b[39m\u001b[39m=\u001b[39m \u001b[39mawait\u001b[39;00m asyncio\u001b[39m.\u001b[39mgather(\u001b[39m*\u001b[39mdeserialized_batches_ops)\n\u001b[1;32m    554\u001b[0m tree_memory_size \u001b[39m=\u001b[39m \u001b[39m0\u001b[39m\n\u001b[1;32m    555\u001b[0m flat_restored \u001b[39m=\u001b[39m {}\n",
      "File \u001b[0;32m/nfs/nfs2/users/dibya/miniconda3/envs/lv_env/lib/python3.11/asyncio/tasks.py:349\u001b[0m, in \u001b[0;36mTask.__wakeup\u001b[0;34m(self, future)\u001b[0m\n\u001b[1;32m    347\u001b[0m \u001b[39mdef\u001b[39;00m \u001b[39m__wakeup\u001b[39m(\u001b[39mself\u001b[39m, future):\n\u001b[1;32m    348\u001b[0m     \u001b[39mtry\u001b[39;00m:\n\u001b[0;32m--> 349\u001b[0m         future\u001b[39m.\u001b[39;49mresult()\n\u001b[1;32m    350\u001b[0m     \u001b[39mexcept\u001b[39;00m \u001b[39mBaseException\u001b[39;00m \u001b[39mas\u001b[39;00m exc:\n\u001b[1;32m    351\u001b[0m         \u001b[39m# This may also be a cancellation.\u001b[39;00m\n\u001b[1;32m    352\u001b[0m         \u001b[39mself\u001b[39m\u001b[39m.\u001b[39m__step(exc)\n",
      "File \u001b[0;32m/nfs/nfs2/users/dibya/miniconda3/envs/lv_env/lib/python3.11/asyncio/tasks.py:279\u001b[0m, in \u001b[0;36mTask.__step\u001b[0;34m(***failed resolving arguments***)\u001b[0m\n\u001b[1;32m    277\u001b[0m         result \u001b[39m=\u001b[39m coro\u001b[39m.\u001b[39msend(\u001b[39mNone\u001b[39;00m)\n\u001b[1;32m    278\u001b[0m     \u001b[39melse\u001b[39;00m:\n\u001b[0;32m--> 279\u001b[0m         result \u001b[39m=\u001b[39m coro\u001b[39m.\u001b[39mthrow(exc)\n\u001b[1;32m    280\u001b[0m \u001b[39mexcept\u001b[39;00m \u001b[39mStopIteration\u001b[39;00m \u001b[39mas\u001b[39;00m exc:\n\u001b[1;32m    281\u001b[0m     \u001b[39mif\u001b[39;00m \u001b[39mself\u001b[39m\u001b[39m.\u001b[39m_must_cancel:\n\u001b[1;32m    282\u001b[0m         \u001b[39m# Task is cancelled right before coro stops.\u001b[39;00m\n",
      "File \u001b[0;32m/nfs/nfs2/users/dibya/miniconda3/envs/lv_env/lib/python3.11/site-packages/orbax/checkpoint/_src/serialization/type_handlers.py:1192\u001b[0m, in \u001b[0;36mArrayHandler.deserialize\u001b[0;34m(self, infos, args)\u001b[0m\n\u001b[1;32m   1179\u001b[0m     logging\u001b[39m.\u001b[39mvlog(\u001b[39m1\u001b[39m, \u001b[39m'\u001b[39m\u001b[39margs = \u001b[39m\u001b[39m%s\u001b[39;00m\u001b[39m'\u001b[39m, args)\n\u001b[1;32m   1180\u001b[0m   deserialize_ops \u001b[39m+\u001b[39m\u001b[39m=\u001b[39m [\n\u001b[1;32m   1181\u001b[0m       serialization\u001b[39m.\u001b[39masync_deserialize(\n\u001b[1;32m   1182\u001b[0m           sharding,\n\u001b[0;32m   (...)\u001b[0m\n\u001b[1;32m   1190\u001b[0m       )\n\u001b[1;32m   1191\u001b[0m   ]\n\u001b[0;32m-> 1192\u001b[0m ret \u001b[39m=\u001b[39m \u001b[39mawait\u001b[39;00m asyncio\u001b[39m.\u001b[39mgather(\u001b[39m*\u001b[39mdeserialize_ops)\n\u001b[1;32m   1194\u001b[0m \u001b[39mif\u001b[39;00m logging\u001b[39m.\u001b[39mvlog_is_on(\u001b[39m1\u001b[39m):\n\u001b[1;32m   1195\u001b[0m   \u001b[39mfor\u001b[39;00m a \u001b[39min\u001b[39;00m ret:\n",
      "File \u001b[0;32m/nfs/nfs2/users/dibya/miniconda3/envs/lv_env/lib/python3.11/asyncio/tasks.py:349\u001b[0m, in \u001b[0;36mTask.__wakeup\u001b[0;34m(self, future)\u001b[0m\n\u001b[1;32m    347\u001b[0m \u001b[39mdef\u001b[39;00m \u001b[39m__wakeup\u001b[39m(\u001b[39mself\u001b[39m, future):\n\u001b[1;32m    348\u001b[0m     \u001b[39mtry\u001b[39;00m:\n\u001b[0;32m--> 349\u001b[0m         future\u001b[39m.\u001b[39;49mresult()\n\u001b[1;32m    350\u001b[0m     \u001b[39mexcept\u001b[39;00m \u001b[39mBaseException\u001b[39;00m \u001b[39mas\u001b[39;00m exc:\n\u001b[1;32m    351\u001b[0m         \u001b[39m# This may also be a cancellation.\u001b[39;00m\n\u001b[1;32m    352\u001b[0m         \u001b[39mself\u001b[39m\u001b[39m.\u001b[39m__step(exc)\n",
      "File \u001b[0;32m/nfs/nfs2/users/dibya/miniconda3/envs/lv_env/lib/python3.11/asyncio/tasks.py:277\u001b[0m, in \u001b[0;36mTask.__step\u001b[0;34m(***failed resolving arguments***)\u001b[0m\n\u001b[1;32m    273\u001b[0m \u001b[39mtry\u001b[39;00m:\n\u001b[1;32m    274\u001b[0m     \u001b[39mif\u001b[39;00m exc \u001b[39mis\u001b[39;00m \u001b[39mNone\u001b[39;00m:\n\u001b[1;32m    275\u001b[0m         \u001b[39m# We use the `send` method directly, because coroutines\u001b[39;00m\n\u001b[1;32m    276\u001b[0m         \u001b[39m# don't have `__iter__` and `__next__` methods.\u001b[39;00m\n\u001b[0;32m--> 277\u001b[0m         result \u001b[39m=\u001b[39m coro\u001b[39m.\u001b[39msend(\u001b[39mNone\u001b[39;00m)\n\u001b[1;32m    278\u001b[0m     \u001b[39melse\u001b[39;00m:\n\u001b[1;32m    279\u001b[0m         result \u001b[39m=\u001b[39m coro\u001b[39m.\u001b[39mthrow(exc)\n",
      "File \u001b[0;32m/nfs/nfs2/users/dibya/miniconda3/envs/lv_env/lib/python3.11/site-packages/orbax/checkpoint/_src/serialization/serialization.py:568\u001b[0m, in \u001b[0;36masync_deserialize\u001b[0;34m(user_sharding, tensorstore_spec, global_shape, dtype, byte_limiter, context, assume_metadata, strict)\u001b[0m\n\u001b[1;32m    562\u001b[0m sharding \u001b[39m=\u001b[39m (\n\u001b[1;32m    563\u001b[0m     user_sharding\u001b[39m.\u001b[39msharding\n\u001b[1;32m    564\u001b[0m     \u001b[39mif\u001b[39;00m \u001b[39misinstance\u001b[39m(user_sharding, Layout)\n\u001b[1;32m    565\u001b[0m     \u001b[39melse\u001b[39;00m user_sharding\n\u001b[1;32m    566\u001b[0m )\n\u001b[1;32m    567\u001b[0m \u001b[39mif\u001b[39;00m \u001b[39mnot\u001b[39;00m \u001b[39misinstance\u001b[39m(sharding, jax\u001b[39m.\u001b[39msharding\u001b[39m.\u001b[39mSharding):\n\u001b[0;32m--> 568\u001b[0m   \u001b[39mraise\u001b[39;00m \u001b[39mValueError\u001b[39;00m(\n\u001b[1;32m    569\u001b[0m       \u001b[39m'\u001b[39m\u001b[39msharding passed to deserialization should be specified, concrete and\u001b[39m\u001b[39m'\u001b[39m\n\u001b[1;32m    570\u001b[0m       \u001b[39mf\u001b[39m\u001b[39m'\u001b[39m\u001b[39m an instance of `jax.sharding.Sharding`. Got \u001b[39m\u001b[39m{\u001b[39;00msharding\u001b[39m}\u001b[39;00m\u001b[39m'\u001b[39m\n\u001b[1;32m    571\u001b[0m   )\n\u001b[1;32m    572\u001b[0m dll \u001b[39m=\u001b[39m sharding\u001b[39m.\u001b[39mdevice_local_layout \u001b[39mif\u001b[39;00m \u001b[39misinstance\u001b[39m(sharding, Layout) \u001b[39melse\u001b[39;00m \u001b[39mNone\u001b[39;00m\n\u001b[1;32m    573\u001b[0m t \u001b[39m=\u001b[39m \u001b[39mawait\u001b[39;00m ts\u001b[39m.\u001b[39mopen(\n\u001b[1;32m    574\u001b[0m     tensorstore_spec,\n\u001b[1;32m    575\u001b[0m     \u001b[39mopen\u001b[39m\u001b[39m=\u001b[39m\u001b[39mTrue\u001b[39;00m,\n\u001b[1;32m    576\u001b[0m     assume_metadata\u001b[39m=\u001b[39massume_metadata,\n\u001b[1;32m    577\u001b[0m     context\u001b[39m=\u001b[39mcontext,\n\u001b[1;32m    578\u001b[0m )\n",
      "\u001b[0;31mValueError\u001b[0m: sharding passed to deserialization should be specified, concrete and an instance of `jax.sharding.Sharding`. Got None"
     ]
    }
   ],
   "source": [
    "import utils\n",
    "expected_outputs = utils.load_pytree('vit/expected_output/')"
   ]
  },
  {
   "cell_type": "code",
   "execution_count": 7,
   "metadata": {},
   "outputs": [
    {
     "data": {
      "text/plain": [
       "{'MAPHead_0': {'LayerNorm_0': {'bias': (768,), 'scale': (768,)},\n",
       "  'MlpBlock_0': {'Dense_0': {'bias': (3072,), 'kernel': (768, 3072)},\n",
       "   'Dense_1': {'bias': (768,), 'kernel': (3072, 768)}},\n",
       "  'MultiHeadDotProductAttention_0': {'key': {'bias': (12, 64),\n",
       "    'kernel': (768, 12, 64)},\n",
       "   'out': {'bias': (768,), 'kernel': (12, 64, 768)},\n",
       "   'query': {'bias': (12, 64), 'kernel': (768, 12, 64)},\n",
       "   'value': {'bias': (12, 64), 'kernel': (768, 12, 64)}},\n",
       "  'probe': (1, 1, 768)},\n",
       " 'Transformer': {'encoder_norm': {'bias': (768,), 'scale': (768,)},\n",
       "  'encoderblock': {'LayerNorm_0': {'bias': (12, 768), 'scale': (12, 768)},\n",
       "   'LayerNorm_1': {'bias': (12, 768), 'scale': (12, 768)},\n",
       "   'MlpBlock_0': {'Dense_0': {'bias': (12, 3072), 'kernel': (12, 768, 3072)},\n",
       "    'Dense_1': {'bias': (12, 768), 'kernel': (12, 3072, 768)}},\n",
       "   'MultiHeadDotProductAttention_0': {'key': {'bias': (12, 12, 64),\n",
       "     'kernel': (12, 768, 12, 64)},\n",
       "    'out': {'bias': (12, 768), 'kernel': (12, 12, 64, 768)},\n",
       "    'query': {'bias': (12, 12, 64), 'kernel': (12, 768, 12, 64)},\n",
       "    'value': {'bias': (12, 12, 64), 'kernel': (12, 768, 12, 64)}}}},\n",
       " 'embedding': {'bias': (768,), 'kernel': (16, 16, 3, 768)},\n",
       " 'pos_embedding': (1, 196, 768)}"
      ]
     },
     "execution_count": 7,
     "metadata": {},
     "output_type": "execute_result"
    }
   ],
   "source": [
    "jax.tree.map(lambda x: x.shape, params)"
   ]
  },
  {
   "cell_type": "code",
   "execution_count": null,
   "metadata": {},
   "outputs": [
    {
     "name": "stderr",
     "output_type": "stream",
     "text": [
      "/nfs/nfs2/users/dibya/miniconda3/envs/lv_env/lib/python3.11/site-packages/orbax/checkpoint/_src/serialization/type_handlers.py:1136: UserWarning: Couldn't find sharding info under RestoreArgs. Populating sharding info from sharding file. Please note restoration time will be slightly increased due to reading from file instead of directly from RestoreArgs. Note also that this option is unsafe when restoring on a different topology than the checkpoint was saved with.\n",
      "  warnings.warn(\n",
      "ERROR:root:Device TPU_0(process=0,(0,0,0,0)) was not found in jax.local_devices().\n",
      "ERROR:root:Device TPU_0(process=0,(0,0,0,0)) was not found in jax.local_devices().\n",
      "ERROR:root:Device TPU_0(process=0,(0,0,0,0)) was not found in jax.local_devices().\n",
      "ERROR:root:Device TPU_0(process=0,(0,0,0,0)) was not found in jax.local_devices().\n",
      "ERROR:root:Device TPU_0(process=0,(0,0,0,0)) was not found in jax.local_devices().\n",
      "ERROR:root:Device TPU_0(process=0,(0,0,0,0)) was not found in jax.local_devices().\n",
      "ERROR:root:Device TPU_0(process=0,(0,0,0,0)) was not found in jax.local_devices().\n",
      "ERROR:root:Device TPU_0(process=0,(0,0,0,0)) was not found in jax.local_devices().\n",
      "ERROR:root:Device TPU_0(process=0,(0,0,0,0)) was not found in jax.local_devices().\n",
      "ERROR:root:Device TPU_0(process=0,(0,0,0,0)) was not found in jax.local_devices().\n",
      "ERROR:root:Device TPU_0(process=0,(0,0,0,0)) was not found in jax.local_devices().\n",
      "ERROR:root:Device TPU_0(process=0,(0,0,0,0)) was not found in jax.local_devices().\n",
      "ERROR:root:Device TPU_0(process=0,(0,0,0,0)) was not found in jax.local_devices().\n",
      "ERROR:root:Device TPU_0(process=0,(0,0,0,0)) was not found in jax.local_devices().\n",
      "ERROR:root:Device TPU_0(process=0,(0,0,0,0)) was not found in jax.local_devices().\n",
      "ERROR:root:Device TPU_0(process=0,(0,0,0,0)) was not found in jax.local_devices().\n",
      "ERROR:root:Device TPU_0(process=0,(0,0,0,0)) was not found in jax.local_devices().\n",
      "ERROR:root:Device TPU_0(process=0,(0,0,0,0)) was not found in jax.local_devices().\n",
      "ERROR:root:Device TPU_0(process=0,(0,0,0,0)) was not found in jax.local_devices().\n",
      "ERROR:root:Device TPU_0(process=0,(0,0,0,0)) was not found in jax.local_devices().\n",
      "ERROR:root:Device TPU_0(process=0,(0,0,0,0)) was not found in jax.local_devices().\n",
      "ERROR:root:Device TPU_0(process=0,(0,0,0,0)) was not found in jax.local_devices().\n",
      "ERROR:root:Device TPU_0(process=0,(0,0,0,0)) was not found in jax.local_devices().\n",
      "ERROR:root:Device TPU_0(process=0,(0,0,0,0)) was not found in jax.local_devices().\n",
      "ERROR:root:Device TPU_0(process=0,(0,0,0,0)) was not found in jax.local_devices().\n",
      "ERROR:root:Device TPU_0(process=0,(0,0,0,0)) was not found in jax.local_devices().\n",
      "ERROR:root:Device TPU_0(process=0,(0,0,0,0)) was not found in jax.local_devices().\n",
      "ERROR:root:Device TPU_0(process=0,(0,0,0,0)) was not found in jax.local_devices().\n",
      "ERROR:root:Device TPU_0(process=0,(0,0,0,0)) was not found in jax.local_devices().\n",
      "ERROR:root:Device TPU_0(process=0,(0,0,0,0)) was not found in jax.local_devices().\n",
      "ERROR:root:Device TPU_0(process=0,(0,0,0,0)) was not found in jax.local_devices().\n",
      "ERROR:root:Device TPU_0(process=0,(0,0,0,0)) was not found in jax.local_devices().\n",
      "ERROR:root:Device TPU_0(process=0,(0,0,0,0)) was not found in jax.local_devices().\n",
      "ERROR:root:Device TPU_0(process=0,(0,0,0,0)) was not found in jax.local_devices().\n",
      "ERROR:root:Device TPU_0(process=0,(0,0,0,0)) was not found in jax.local_devices().\n",
      "ERROR:root:Device TPU_0(process=0,(0,0,0,0)) was not found in jax.local_devices().\n",
      "ERROR:root:Device TPU_0(process=0,(0,0,0,0)) was not found in jax.local_devices().\n",
      "ERROR:root:Device TPU_0(process=0,(0,0,0,0)) was not found in jax.local_devices().\n",
      "ERROR:root:Device TPU_0(process=0,(0,0,0,0)) was not found in jax.local_devices().\n",
      "ERROR:root:Device TPU_0(process=0,(0,0,0,0)) was not found in jax.local_devices().\n",
      "ERROR:root:Device TPU_0(process=0,(0,0,0,0)) was not found in jax.local_devices().\n",
      "ERROR:root:Device TPU_0(process=0,(0,0,0,0)) was not found in jax.local_devices().\n",
      "ERROR:root:Device TPU_0(process=0,(0,0,0,0)) was not found in jax.local_devices().\n",
      "ERROR:root:Device TPU_0(process=0,(0,0,0,0)) was not found in jax.local_devices().\n",
      "ERROR:root:Device TPU_0(process=0,(0,0,0,0)) was not found in jax.local_devices().\n",
      "ERROR:root:Device TPU_0(process=0,(0,0,0,0)) was not found in jax.local_devices().\n",
      "ERROR:root:Device TPU_0(process=0,(0,0,0,0)) was not found in jax.local_devices().\n",
      "ERROR:root:Device TPU_0(process=0,(0,0,0,0)) was not found in jax.local_devices().\n",
      "ERROR:root:Device TPU_0(process=0,(0,0,0,0)) was not found in jax.local_devices().\n",
      "ERROR:root:Device TPU_0(process=0,(0,0,0,0)) was not found in jax.local_devices().\n",
      "ERROR:root:Device TPU_0(process=0,(0,0,0,0)) was not found in jax.local_devices().\n",
      "ERROR:root:Device TPU_0(process=0,(0,0,0,0)) was not found in jax.local_devices().\n",
      "ERROR:root:Device TPU_0(process=0,(0,0,0,0)) was not found in jax.local_devices().\n",
      "ERROR:root:Device TPU_0(process=0,(0,0,0,0)) was not found in jax.local_devices().\n",
      "ERROR:root:Device TPU_0(process=0,(0,0,0,0)) was not found in jax.local_devices().\n"
     ]
    },
    {
     "ename": "ValueError",
     "evalue": "sharding passed to deserialization should be specified, concrete and an instance of `jax.sharding.Sharding`. Got None",
     "output_type": "error",
     "traceback": [
      "\u001b[0;31m---------------------------------------------------------------------------\u001b[0m",
      "\u001b[0;31mValueError\u001b[0m                                Traceback (most recent call last)",
      "\u001b[1;32m/home/dibya/nfs/practice/transformer_from_scratch/test.ipynb Cell 10\u001b[0m line \u001b[0;36m2\n\u001b[1;32m      <a href='vscode-notebook-cell://ssh-remote%2Btpuv4-tpu/home/dibya/nfs/practice/transformer_from_scratch/test.ipynb#X26sdnNjb2RlLXJlbW90ZQ%3D%3D?line=0'>1</a>\u001b[0m \u001b[39mimport\u001b[39;00m \u001b[39mutils\u001b[39;00m\n\u001b[0;32m----> <a href='vscode-notebook-cell://ssh-remote%2Btpuv4-tpu/home/dibya/nfs/practice/transformer_from_scratch/test.ipynb#X26sdnNjb2RlLXJlbW90ZQ%3D%3D?line=1'>2</a>\u001b[0m utils\u001b[39m.\u001b[39;49mload_pytree(\u001b[39m'\u001b[39;49m\u001b[39mvit/expected_output/\u001b[39;49m\u001b[39m'\u001b[39;49m)\n",
      "File \u001b[0;32m/nfs/nfs2/users/dibya/practice/transformer_from_scratch/utils.py:38\u001b[0m, in \u001b[0;36mload_pytree\u001b[0;34m(path, target)\u001b[0m\n\u001b[1;32m     33\u001b[0m \u001b[39mif\u001b[39;00m target \u001b[39mis\u001b[39;00m \u001b[39mNone\u001b[39;00m:\n\u001b[1;32m     34\u001b[0m     target \u001b[39m=\u001b[39m jax\u001b[39m.\u001b[39mtree\u001b[39m.\u001b[39mmap(\n\u001b[1;32m     35\u001b[0m         \u001b[39mlambda\u001b[39;00m x: jax\u001b[39m.\u001b[39mShapeDtypeStruct(x\u001b[39m.\u001b[39mshape, x\u001b[39m.\u001b[39mdtype),\n\u001b[1;32m     36\u001b[0m         checkpointer\u001b[39m.\u001b[39mmetadata(path),\n\u001b[1;32m     37\u001b[0m     )\n\u001b[0;32m---> 38\u001b[0m \u001b[39mreturn\u001b[39;00m checkpointer\u001b[39m.\u001b[39;49mrestore(path, target\u001b[39m=\u001b[39;49mtarget)\n",
      "File \u001b[0;32m/nfs/nfs2/users/dibya/miniconda3/envs/lv_env/lib/python3.11/site-packages/orbax/checkpoint/_src/checkpointers/standard_checkpointer.py:144\u001b[0m, in \u001b[0;36mStandardCheckpointer.restore\u001b[0;34m(self, directory, target, strict)\u001b[0m\n\u001b[1;32m    117\u001b[0m \u001b[39mdef\u001b[39;00m \u001b[39mrestore\u001b[39m(\n\u001b[1;32m    118\u001b[0m     \u001b[39mself\u001b[39m,\n\u001b[1;32m    119\u001b[0m     directory: epath\u001b[39m.\u001b[39mPathLike,\n\u001b[0;32m   (...)\u001b[0m\n\u001b[1;32m    122\u001b[0m     strict: \u001b[39mbool\u001b[39m \u001b[39m=\u001b[39m \u001b[39mTrue\u001b[39;00m,\n\u001b[1;32m    123\u001b[0m ) \u001b[39m-\u001b[39m\u001b[39m>\u001b[39m Any:\n\u001b[1;32m    124\u001b[0m \u001b[39m  \u001b[39m\u001b[39m\"\"\"Restores a checkpoint.\u001b[39;00m\n\u001b[1;32m    125\u001b[0m \n\u001b[1;32m    126\u001b[0m \u001b[39m  Args:\u001b[39;00m\n\u001b[0;32m   (...)\u001b[0m\n\u001b[1;32m    142\u001b[0m \u001b[39m    The restored checkpoint.\u001b[39;00m\n\u001b[1;32m    143\u001b[0m \u001b[39m  \"\"\"\u001b[39;00m\n\u001b[0;32m--> 144\u001b[0m   \u001b[39mreturn\u001b[39;00m \u001b[39msuper\u001b[39;49m()\u001b[39m.\u001b[39;49mrestore(\n\u001b[1;32m    145\u001b[0m       directory, args\u001b[39m=\u001b[39;49mStandardRestore(target, strict\u001b[39m=\u001b[39;49mstrict)\n\u001b[1;32m    146\u001b[0m   )\n",
      "File \u001b[0;32m/nfs/nfs2/users/dibya/miniconda3/envs/lv_env/lib/python3.11/site-packages/orbax/checkpoint/_src/checkpointers/async_checkpointer.py:433\u001b[0m, in \u001b[0;36mAsyncCheckpointer.restore\u001b[0;34m(self, directory, *args, **kwargs)\u001b[0m\n\u001b[1;32m    431\u001b[0m \u001b[39m\u001b[39m\u001b[39m\"\"\"See superclass documentation.\"\"\"\u001b[39;00m\n\u001b[1;32m    432\u001b[0m \u001b[39mself\u001b[39m\u001b[39m.\u001b[39mwait_until_finished()\n\u001b[0;32m--> 433\u001b[0m \u001b[39mreturn\u001b[39;00m \u001b[39msuper\u001b[39;49m()\u001b[39m.\u001b[39;49mrestore(directory, \u001b[39m*\u001b[39;49margs, \u001b[39m*\u001b[39;49m\u001b[39m*\u001b[39;49mkwargs)\n",
      "File \u001b[0;32m/nfs/nfs2/users/dibya/miniconda3/envs/lv_env/lib/python3.11/site-packages/orbax/checkpoint/_src/checkpointers/checkpointer.py:238\u001b[0m, in \u001b[0;36mCheckpointer.restore\u001b[0;34m(self, directory, *args, **kwargs)\u001b[0m\n\u001b[1;32m    236\u001b[0m logging\u001b[39m.\u001b[39minfo(\u001b[39m'\u001b[39m\u001b[39mRestoring checkpoint from \u001b[39m\u001b[39m%s\u001b[39;00m\u001b[39m.\u001b[39m\u001b[39m'\u001b[39m, directory)\n\u001b[1;32m    237\u001b[0m ckpt_args \u001b[39m=\u001b[39m construct_checkpoint_args(\u001b[39mself\u001b[39m\u001b[39m.\u001b[39m_handler, \u001b[39mFalse\u001b[39;00m, \u001b[39m*\u001b[39margs, \u001b[39m*\u001b[39m\u001b[39m*\u001b[39mkwargs)\n\u001b[0;32m--> 238\u001b[0m restored \u001b[39m=\u001b[39m \u001b[39mself\u001b[39;49m\u001b[39m.\u001b[39;49m_restore(directory, args\u001b[39m=\u001b[39;49mckpt_args)\n\u001b[1;32m    239\u001b[0m logging\u001b[39m.\u001b[39minfo(\u001b[39m'\u001b[39m\u001b[39mFinished restoring checkpoint from \u001b[39m\u001b[39m%s\u001b[39;00m\u001b[39m.\u001b[39m\u001b[39m'\u001b[39m, directory)\n\u001b[1;32m    240\u001b[0m multihost\u001b[39m.\u001b[39msync_global_processes(\n\u001b[1;32m    241\u001b[0m     multihost\u001b[39m.\u001b[39munique_barrier_key(\n\u001b[1;32m    242\u001b[0m         \u001b[39m'\u001b[39m\u001b[39mCheckpointer:restore\u001b[39m\u001b[39m'\u001b[39m,\n\u001b[0;32m   (...)\u001b[0m\n\u001b[1;32m    245\u001b[0m     processes\u001b[39m=\u001b[39m\u001b[39mself\u001b[39m\u001b[39m.\u001b[39m_active_processes,\n\u001b[1;32m    246\u001b[0m )\n",
      "File \u001b[0;32m/nfs/nfs2/users/dibya/miniconda3/envs/lv_env/lib/python3.11/site-packages/orbax/checkpoint/_src/checkpointers/checkpointer.py:252\u001b[0m, in \u001b[0;36mCheckpointer._restore\u001b[0;34m(self, directory, args)\u001b[0m\n\u001b[1;32m    249\u001b[0m \u001b[39mdef\u001b[39;00m \u001b[39m_restore\u001b[39m(\n\u001b[1;32m    250\u001b[0m     \u001b[39mself\u001b[39m, directory: epath\u001b[39m.\u001b[39mPathLike, args: checkpoint_args\u001b[39m.\u001b[39mCheckpointArgs\n\u001b[1;32m    251\u001b[0m ) \u001b[39m-\u001b[39m\u001b[39m>\u001b[39m Any:\n\u001b[0;32m--> 252\u001b[0m   \u001b[39mreturn\u001b[39;00m \u001b[39mself\u001b[39;49m\u001b[39m.\u001b[39;49m_handler\u001b[39m.\u001b[39;49mrestore(directory, args\u001b[39m=\u001b[39;49margs)\n",
      "File \u001b[0;32m/nfs/nfs2/users/dibya/miniconda3/envs/lv_env/lib/python3.11/site-packages/orbax/checkpoint/_src/handlers/standard_checkpoint_handler.py:236\u001b[0m, in \u001b[0;36mStandardCheckpointHandler.restore\u001b[0;34m(self, directory, item, args)\u001b[0m\n\u001b[1;32m    234\u001b[0m \u001b[39mif\u001b[39;00m \u001b[39mnot\u001b[39;00m args\u001b[39m.\u001b[39mstrict:\n\u001b[1;32m    235\u001b[0m   restore_args \u001b[39m=\u001b[39m jax\u001b[39m.\u001b[39mtree\u001b[39m.\u001b[39mmap(_replace_strict, restore_args)\n\u001b[0;32m--> 236\u001b[0m \u001b[39mreturn\u001b[39;00m \u001b[39mself\u001b[39;49m\u001b[39m.\u001b[39;49m_impl\u001b[39m.\u001b[39;49mrestore(\n\u001b[1;32m    237\u001b[0m     directory,\n\u001b[1;32m    238\u001b[0m     args\u001b[39m=\u001b[39;49mpytree_checkpoint_handler\u001b[39m.\u001b[39;49mPyTreeRestoreArgs(\n\u001b[1;32m    239\u001b[0m         item\u001b[39m=\u001b[39;49margs\u001b[39m.\u001b[39;49mitem, restore_args\u001b[39m=\u001b[39;49mrestore_args\n\u001b[1;32m    240\u001b[0m     ),\n\u001b[1;32m    241\u001b[0m )\n",
      "File \u001b[0;32m/nfs/nfs2/users/dibya/miniconda3/envs/lv_env/lib/python3.11/site-packages/orbax/checkpoint/_src/handlers/pytree_checkpoint_handler.py:785\u001b[0m, in \u001b[0;36mPyTreeCheckpointHandler.restore\u001b[0;34m(self, directory, item, restore_args, transforms, transforms_default_to_original, legacy_transform_fn, args)\u001b[0m\n\u001b[1;32m    775\u001b[0m \u001b[39mif\u001b[39;00m (\n\u001b[1;32m    776\u001b[0m     (directory \u001b[39m/\u001b[39m PYTREE_METADATA_FILE)\u001b[39m.\u001b[39mexists()\n\u001b[1;32m    777\u001b[0m     \u001b[39mand\u001b[39;00m can_ignore_aggregate_file\n\u001b[1;32m    778\u001b[0m     \u001b[39mand\u001b[39;00m transforms \u001b[39mis\u001b[39;00m \u001b[39mNone\u001b[39;00m\n\u001b[1;32m    779\u001b[0m     \u001b[39mand\u001b[39;00m legacy_transform_fn \u001b[39mis\u001b[39;00m \u001b[39mNone\u001b[39;00m\n\u001b[1;32m    780\u001b[0m ):\n\u001b[1;32m    781\u001b[0m   args \u001b[39m=\u001b[39m BasePyTreeRestoreArgs(\n\u001b[1;32m    782\u001b[0m       item,\n\u001b[1;32m    783\u001b[0m       restore_args\u001b[39m=\u001b[39mrestore_args,\n\u001b[1;32m    784\u001b[0m   )\n\u001b[0;32m--> 785\u001b[0m   \u001b[39mreturn\u001b[39;00m \u001b[39mself\u001b[39;49m\u001b[39m.\u001b[39;49m_handler_impl\u001b[39m.\u001b[39;49mrestore(directory, args\u001b[39m=\u001b[39;49margs)\n\u001b[1;32m    787\u001b[0m logging\u001b[39m.\u001b[39mvlog(\u001b[39m1\u001b[39m, \u001b[39m'\u001b[39m\u001b[39mdirectory=\u001b[39m\u001b[39m%s\u001b[39;00m\u001b[39m, restore_args=\u001b[39m\u001b[39m%s\u001b[39;00m\u001b[39m'\u001b[39m, directory, restore_args)\n\u001b[1;32m    788\u001b[0m \u001b[39mif\u001b[39;00m \u001b[39mnot\u001b[39;00m directory\u001b[39m.\u001b[39mexists():\n",
      "File \u001b[0;32m/nfs/nfs2/users/dibya/miniconda3/envs/lv_env/lib/python3.11/site-packages/orbax/checkpoint/_src/handlers/base_pytree_checkpoint_handler.py:704\u001b[0m, in \u001b[0;36mBasePyTreeCheckpointHandler.restore\u001b[0;34m(self, directory, args)\u001b[0m\n\u001b[1;32m    696\u001b[0m param_infos \u001b[39m=\u001b[39m \u001b[39mself\u001b[39m\u001b[39m.\u001b[39m_get_param_infos(\n\u001b[1;32m    697\u001b[0m     item\u001b[39m=\u001b[39mvalue_metadata_tree,\n\u001b[1;32m    698\u001b[0m     directory\u001b[39m=\u001b[39mdirectory,\n\u001b[0;32m   (...)\u001b[0m\n\u001b[1;32m    701\u001b[0m     raise_array_data_missing_error\u001b[39m=\u001b[39mraise_array_data_missing_error,\n\u001b[1;32m    702\u001b[0m )\n\u001b[1;32m    703\u001b[0m \u001b[39m# Begin restore.\u001b[39;00m\n\u001b[0;32m--> 704\u001b[0m tree_memory_size, restored_item \u001b[39m=\u001b[39m asyncio_utils\u001b[39m.\u001b[39;49mrun_sync(\n\u001b[1;32m    705\u001b[0m     \u001b[39mself\u001b[39;49m\u001b[39m.\u001b[39;49m_maybe_deserialize(\n\u001b[1;32m    706\u001b[0m         item, value_metadata_tree, param_infos, restore_args\n\u001b[1;32m    707\u001b[0m     )\n\u001b[1;32m    708\u001b[0m )\n\u001b[1;32m    710\u001b[0m \u001b[39mif\u001b[39;00m logging\u001b[39m.\u001b[39mvlog_is_on(\u001b[39m1\u001b[39m):\n\u001b[1;32m    711\u001b[0m   logging\u001b[39m.\u001b[39mvlog(\u001b[39m1\u001b[39m, \u001b[39m'\u001b[39m\u001b[39mparam_infos: \u001b[39m\u001b[39m%s\u001b[39;00m\u001b[39m'\u001b[39m, param_infos)\n",
      "File \u001b[0;32m/nfs/nfs2/users/dibya/miniconda3/envs/lv_env/lib/python3.11/site-packages/orbax/checkpoint/_src/asyncio_utils.py:50\u001b[0m, in \u001b[0;36mrun_sync\u001b[0;34m(coro, enable_nest_asyncio)\u001b[0m\n\u001b[1;32m     48\u001b[0m \u001b[39mexcept\u001b[39;00m \u001b[39mRuntimeError\u001b[39;00m:\n\u001b[1;32m     49\u001b[0m   \u001b[39mpass\u001b[39;00m\n\u001b[0;32m---> 50\u001b[0m \u001b[39mreturn\u001b[39;00m asyncio\u001b[39m.\u001b[39;49mrun(coro)\n",
      "File \u001b[0;32m/nfs/nfs2/users/dibya/miniconda3/envs/lv_env/lib/python3.11/site-packages/nest_asyncio.py:30\u001b[0m, in \u001b[0;36m_patch_asyncio.<locals>.run\u001b[0;34m(main, debug)\u001b[0m\n\u001b[1;32m     28\u001b[0m task \u001b[39m=\u001b[39m asyncio\u001b[39m.\u001b[39mensure_future(main)\n\u001b[1;32m     29\u001b[0m \u001b[39mtry\u001b[39;00m:\n\u001b[0;32m---> 30\u001b[0m     \u001b[39mreturn\u001b[39;00m loop\u001b[39m.\u001b[39;49mrun_until_complete(task)\n\u001b[1;32m     31\u001b[0m \u001b[39mfinally\u001b[39;00m:\n\u001b[1;32m     32\u001b[0m     \u001b[39mif\u001b[39;00m \u001b[39mnot\u001b[39;00m task\u001b[39m.\u001b[39mdone():\n",
      "File \u001b[0;32m/nfs/nfs2/users/dibya/miniconda3/envs/lv_env/lib/python3.11/site-packages/nest_asyncio.py:98\u001b[0m, in \u001b[0;36m_patch_loop.<locals>.run_until_complete\u001b[0;34m(self, future)\u001b[0m\n\u001b[1;32m     95\u001b[0m \u001b[39mif\u001b[39;00m \u001b[39mnot\u001b[39;00m f\u001b[39m.\u001b[39mdone():\n\u001b[1;32m     96\u001b[0m     \u001b[39mraise\u001b[39;00m \u001b[39mRuntimeError\u001b[39;00m(\n\u001b[1;32m     97\u001b[0m         \u001b[39m'\u001b[39m\u001b[39mEvent loop stopped before Future completed.\u001b[39m\u001b[39m'\u001b[39m)\n\u001b[0;32m---> 98\u001b[0m \u001b[39mreturn\u001b[39;00m f\u001b[39m.\u001b[39;49mresult()\n",
      "File \u001b[0;32m/nfs/nfs2/users/dibya/miniconda3/envs/lv_env/lib/python3.11/asyncio/futures.py:203\u001b[0m, in \u001b[0;36mFuture.result\u001b[0;34m(self)\u001b[0m\n\u001b[1;32m    201\u001b[0m \u001b[39mself\u001b[39m\u001b[39m.\u001b[39m__log_traceback \u001b[39m=\u001b[39m \u001b[39mFalse\u001b[39;00m\n\u001b[1;32m    202\u001b[0m \u001b[39mif\u001b[39;00m \u001b[39mself\u001b[39m\u001b[39m.\u001b[39m_exception \u001b[39mis\u001b[39;00m \u001b[39mnot\u001b[39;00m \u001b[39mNone\u001b[39;00m:\n\u001b[0;32m--> 203\u001b[0m     \u001b[39mraise\u001b[39;00m \u001b[39mself\u001b[39m\u001b[39m.\u001b[39m_exception\u001b[39m.\u001b[39mwith_traceback(\u001b[39mself\u001b[39m\u001b[39m.\u001b[39m_exception_tb)\n\u001b[1;32m    204\u001b[0m \u001b[39mreturn\u001b[39;00m \u001b[39mself\u001b[39m\u001b[39m.\u001b[39m_result\n",
      "File \u001b[0;32m/nfs/nfs2/users/dibya/miniconda3/envs/lv_env/lib/python3.11/asyncio/tasks.py:279\u001b[0m, in \u001b[0;36mTask.__step\u001b[0;34m(***failed resolving arguments***)\u001b[0m\n\u001b[1;32m    277\u001b[0m         result \u001b[39m=\u001b[39m coro\u001b[39m.\u001b[39msend(\u001b[39mNone\u001b[39;00m)\n\u001b[1;32m    278\u001b[0m     \u001b[39melse\u001b[39;00m:\n\u001b[0;32m--> 279\u001b[0m         result \u001b[39m=\u001b[39m coro\u001b[39m.\u001b[39mthrow(exc)\n\u001b[1;32m    280\u001b[0m \u001b[39mexcept\u001b[39;00m \u001b[39mStopIteration\u001b[39;00m \u001b[39mas\u001b[39;00m exc:\n\u001b[1;32m    281\u001b[0m     \u001b[39mif\u001b[39;00m \u001b[39mself\u001b[39m\u001b[39m.\u001b[39m_must_cancel:\n\u001b[1;32m    282\u001b[0m         \u001b[39m# Task is cancelled right before coro stops.\u001b[39;00m\n",
      "File \u001b[0;32m/nfs/nfs2/users/dibya/miniconda3/envs/lv_env/lib/python3.11/site-packages/orbax/checkpoint/_src/handlers/base_pytree_checkpoint_handler.py:552\u001b[0m, in \u001b[0;36mBasePyTreeCheckpointHandler._maybe_deserialize\u001b[0;34m(self, item, metadata, param_infos, restore_args)\u001b[0m\n\u001b[1;32m    548\u001b[0m \u001b[39mfor\u001b[39;00m request \u001b[39min\u001b[39;00m batch_requests:\n\u001b[1;32m    549\u001b[0m   deserialized_batches_ops\u001b[39m.\u001b[39mappend(\n\u001b[1;32m    550\u001b[0m       request\u001b[39m.\u001b[39mhandler\u001b[39m.\u001b[39mdeserialize(request\u001b[39m.\u001b[39minfos, request\u001b[39m.\u001b[39margs)\n\u001b[1;32m    551\u001b[0m   )\n\u001b[0;32m--> 552\u001b[0m deserialized_batches \u001b[39m+\u001b[39m\u001b[39m=\u001b[39m \u001b[39mawait\u001b[39;00m asyncio\u001b[39m.\u001b[39mgather(\u001b[39m*\u001b[39mdeserialized_batches_ops)\n\u001b[1;32m    554\u001b[0m tree_memory_size \u001b[39m=\u001b[39m \u001b[39m0\u001b[39m\n\u001b[1;32m    555\u001b[0m flat_restored \u001b[39m=\u001b[39m {}\n",
      "File \u001b[0;32m/nfs/nfs2/users/dibya/miniconda3/envs/lv_env/lib/python3.11/asyncio/tasks.py:349\u001b[0m, in \u001b[0;36mTask.__wakeup\u001b[0;34m(self, future)\u001b[0m\n\u001b[1;32m    347\u001b[0m \u001b[39mdef\u001b[39;00m \u001b[39m__wakeup\u001b[39m(\u001b[39mself\u001b[39m, future):\n\u001b[1;32m    348\u001b[0m     \u001b[39mtry\u001b[39;00m:\n\u001b[0;32m--> 349\u001b[0m         future\u001b[39m.\u001b[39;49mresult()\n\u001b[1;32m    350\u001b[0m     \u001b[39mexcept\u001b[39;00m \u001b[39mBaseException\u001b[39;00m \u001b[39mas\u001b[39;00m exc:\n\u001b[1;32m    351\u001b[0m         \u001b[39m# This may also be a cancellation.\u001b[39;00m\n\u001b[1;32m    352\u001b[0m         \u001b[39mself\u001b[39m\u001b[39m.\u001b[39m__step(exc)\n",
      "File \u001b[0;32m/nfs/nfs2/users/dibya/miniconda3/envs/lv_env/lib/python3.11/asyncio/tasks.py:279\u001b[0m, in \u001b[0;36mTask.__step\u001b[0;34m(***failed resolving arguments***)\u001b[0m\n\u001b[1;32m    277\u001b[0m         result \u001b[39m=\u001b[39m coro\u001b[39m.\u001b[39msend(\u001b[39mNone\u001b[39;00m)\n\u001b[1;32m    278\u001b[0m     \u001b[39melse\u001b[39;00m:\n\u001b[0;32m--> 279\u001b[0m         result \u001b[39m=\u001b[39m coro\u001b[39m.\u001b[39mthrow(exc)\n\u001b[1;32m    280\u001b[0m \u001b[39mexcept\u001b[39;00m \u001b[39mStopIteration\u001b[39;00m \u001b[39mas\u001b[39;00m exc:\n\u001b[1;32m    281\u001b[0m     \u001b[39mif\u001b[39;00m \u001b[39mself\u001b[39m\u001b[39m.\u001b[39m_must_cancel:\n\u001b[1;32m    282\u001b[0m         \u001b[39m# Task is cancelled right before coro stops.\u001b[39;00m\n",
      "File \u001b[0;32m/nfs/nfs2/users/dibya/miniconda3/envs/lv_env/lib/python3.11/site-packages/orbax/checkpoint/_src/serialization/type_handlers.py:1192\u001b[0m, in \u001b[0;36mArrayHandler.deserialize\u001b[0;34m(self, infos, args)\u001b[0m\n\u001b[1;32m   1179\u001b[0m     logging\u001b[39m.\u001b[39mvlog(\u001b[39m1\u001b[39m, \u001b[39m'\u001b[39m\u001b[39margs = \u001b[39m\u001b[39m%s\u001b[39;00m\u001b[39m'\u001b[39m, args)\n\u001b[1;32m   1180\u001b[0m   deserialize_ops \u001b[39m+\u001b[39m\u001b[39m=\u001b[39m [\n\u001b[1;32m   1181\u001b[0m       serialization\u001b[39m.\u001b[39masync_deserialize(\n\u001b[1;32m   1182\u001b[0m           sharding,\n\u001b[0;32m   (...)\u001b[0m\n\u001b[1;32m   1190\u001b[0m       )\n\u001b[1;32m   1191\u001b[0m   ]\n\u001b[0;32m-> 1192\u001b[0m ret \u001b[39m=\u001b[39m \u001b[39mawait\u001b[39;00m asyncio\u001b[39m.\u001b[39mgather(\u001b[39m*\u001b[39mdeserialize_ops)\n\u001b[1;32m   1194\u001b[0m \u001b[39mif\u001b[39;00m logging\u001b[39m.\u001b[39mvlog_is_on(\u001b[39m1\u001b[39m):\n\u001b[1;32m   1195\u001b[0m   \u001b[39mfor\u001b[39;00m a \u001b[39min\u001b[39;00m ret:\n",
      "File \u001b[0;32m/nfs/nfs2/users/dibya/miniconda3/envs/lv_env/lib/python3.11/asyncio/tasks.py:349\u001b[0m, in \u001b[0;36mTask.__wakeup\u001b[0;34m(self, future)\u001b[0m\n\u001b[1;32m    347\u001b[0m \u001b[39mdef\u001b[39;00m \u001b[39m__wakeup\u001b[39m(\u001b[39mself\u001b[39m, future):\n\u001b[1;32m    348\u001b[0m     \u001b[39mtry\u001b[39;00m:\n\u001b[0;32m--> 349\u001b[0m         future\u001b[39m.\u001b[39;49mresult()\n\u001b[1;32m    350\u001b[0m     \u001b[39mexcept\u001b[39;00m \u001b[39mBaseException\u001b[39;00m \u001b[39mas\u001b[39;00m exc:\n\u001b[1;32m    351\u001b[0m         \u001b[39m# This may also be a cancellation.\u001b[39;00m\n\u001b[1;32m    352\u001b[0m         \u001b[39mself\u001b[39m\u001b[39m.\u001b[39m__step(exc)\n",
      "File \u001b[0;32m/nfs/nfs2/users/dibya/miniconda3/envs/lv_env/lib/python3.11/asyncio/tasks.py:277\u001b[0m, in \u001b[0;36mTask.__step\u001b[0;34m(***failed resolving arguments***)\u001b[0m\n\u001b[1;32m    273\u001b[0m \u001b[39mtry\u001b[39;00m:\n\u001b[1;32m    274\u001b[0m     \u001b[39mif\u001b[39;00m exc \u001b[39mis\u001b[39;00m \u001b[39mNone\u001b[39;00m:\n\u001b[1;32m    275\u001b[0m         \u001b[39m# We use the `send` method directly, because coroutines\u001b[39;00m\n\u001b[1;32m    276\u001b[0m         \u001b[39m# don't have `__iter__` and `__next__` methods.\u001b[39;00m\n\u001b[0;32m--> 277\u001b[0m         result \u001b[39m=\u001b[39m coro\u001b[39m.\u001b[39msend(\u001b[39mNone\u001b[39;00m)\n\u001b[1;32m    278\u001b[0m     \u001b[39melse\u001b[39;00m:\n\u001b[1;32m    279\u001b[0m         result \u001b[39m=\u001b[39m coro\u001b[39m.\u001b[39mthrow(exc)\n",
      "File \u001b[0;32m/nfs/nfs2/users/dibya/miniconda3/envs/lv_env/lib/python3.11/site-packages/orbax/checkpoint/_src/serialization/serialization.py:568\u001b[0m, in \u001b[0;36masync_deserialize\u001b[0;34m(user_sharding, tensorstore_spec, global_shape, dtype, byte_limiter, context, assume_metadata, strict)\u001b[0m\n\u001b[1;32m    562\u001b[0m sharding \u001b[39m=\u001b[39m (\n\u001b[1;32m    563\u001b[0m     user_sharding\u001b[39m.\u001b[39msharding\n\u001b[1;32m    564\u001b[0m     \u001b[39mif\u001b[39;00m \u001b[39misinstance\u001b[39m(user_sharding, Layout)\n\u001b[1;32m    565\u001b[0m     \u001b[39melse\u001b[39;00m user_sharding\n\u001b[1;32m    566\u001b[0m )\n\u001b[1;32m    567\u001b[0m \u001b[39mif\u001b[39;00m \u001b[39mnot\u001b[39;00m \u001b[39misinstance\u001b[39m(sharding, jax\u001b[39m.\u001b[39msharding\u001b[39m.\u001b[39mSharding):\n\u001b[0;32m--> 568\u001b[0m   \u001b[39mraise\u001b[39;00m \u001b[39mValueError\u001b[39;00m(\n\u001b[1;32m    569\u001b[0m       \u001b[39m'\u001b[39m\u001b[39msharding passed to deserialization should be specified, concrete and\u001b[39m\u001b[39m'\u001b[39m\n\u001b[1;32m    570\u001b[0m       \u001b[39mf\u001b[39m\u001b[39m'\u001b[39m\u001b[39m an instance of `jax.sharding.Sharding`. Got \u001b[39m\u001b[39m{\u001b[39;00msharding\u001b[39m}\u001b[39;00m\u001b[39m'\u001b[39m\n\u001b[1;32m    571\u001b[0m   )\n\u001b[1;32m    572\u001b[0m dll \u001b[39m=\u001b[39m sharding\u001b[39m.\u001b[39mdevice_local_layout \u001b[39mif\u001b[39;00m \u001b[39misinstance\u001b[39m(sharding, Layout) \u001b[39melse\u001b[39;00m \u001b[39mNone\u001b[39;00m\n\u001b[1;32m    573\u001b[0m t \u001b[39m=\u001b[39m \u001b[39mawait\u001b[39;00m ts\u001b[39m.\u001b[39mopen(\n\u001b[1;32m    574\u001b[0m     tensorstore_spec,\n\u001b[1;32m    575\u001b[0m     \u001b[39mopen\u001b[39m\u001b[39m=\u001b[39m\u001b[39mTrue\u001b[39;00m,\n\u001b[1;32m    576\u001b[0m     assume_metadata\u001b[39m=\u001b[39massume_metadata,\n\u001b[1;32m    577\u001b[0m     context\u001b[39m=\u001b[39mcontext,\n\u001b[1;32m    578\u001b[0m )\n",
      "\u001b[0;31mValueError\u001b[0m: sharding passed to deserialization should be specified, concrete and an instance of `jax.sharding.Sharding`. Got None"
     ]
    }
   ],
   "source": [
    "import utils\n",
    "utils.load_pytree('vit/expected_output/')"
   ]
  },
  {
   "cell_type": "code",
   "execution_count": null,
   "metadata": {},
   "outputs": [
    {
     "ename": "AttributeError",
     "evalue": "'ArrayMetadata' object has no attribute 'restore_type'",
     "output_type": "error",
     "traceback": [
      "\u001b[0;31m---------------------------------------------------------------------------\u001b[0m",
      "\u001b[0;31mAttributeError\u001b[0m                            Traceback (most recent call last)",
      "\u001b[1;32m/home/dibya/nfs/practice/transformer_from_scratch/test.ipynb Cell 11\u001b[0m line \u001b[0;36m1\n\u001b[0;32m----> <a href='vscode-notebook-cell://ssh-remote%2Btpuv4-tpu/home/dibya/nfs/practice/transformer_from_scratch/test.ipynb#X30sdnNjb2RlLXJlbW90ZQ%3D%3D?line=0'>1</a>\u001b[0m checkpointer\u001b[39m.\u001b[39;49mmetadata(path)[\u001b[39m0\u001b[39;49m]\u001b[39m.\u001b[39;49mrestore_type\n",
      "\u001b[0;31mAttributeError\u001b[0m: 'ArrayMetadata' object has no attribute 'restore_type'"
     ]
    }
   ],
   "source": [
    "checkpointer.metadata(path)[0].restore_type"
   ]
  },
  {
   "cell_type": "code",
   "execution_count": null,
   "metadata": {},
   "outputs": [
    {
     "ename": "NameError",
     "evalue": "name 'd' is not defined",
     "output_type": "error",
     "traceback": [
      "\u001b[0;31m---------------------------------------------------------------------------\u001b[0m",
      "\u001b[0;31mNameError\u001b[0m                                 Traceback (most recent call last)",
      "\u001b[1;32m/home/dibya/nfs/practice/transformer_from_scratch/test.ipynb Cell 8\u001b[0m line \u001b[0;36m1\n\u001b[0;32m----> <a href='vscode-notebook-cell://ssh-remote%2Btpuv4-tpu/home/dibya/nfs/practice/transformer_from_scratch/test.ipynb#X21sdnNjb2RlLXJlbW90ZQ%3D%3D?line=0'>1</a>\u001b[0m d[\u001b[39m'\u001b[39m\u001b[39membedding\u001b[39m\u001b[39m'\u001b[39m]\n",
      "\u001b[0;31mNameError\u001b[0m: name 'd' is not defined"
     ]
    }
   ],
   "source": [
    "d['embedding']"
   ]
  }
 ],
 "metadata": {
  "language_info": {
   "name": "python"
  }
 },
 "nbformat": 4,
 "nbformat_minor": 2
}
