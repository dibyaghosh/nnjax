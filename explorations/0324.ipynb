{
 "cells": [
  {
   "cell_type": "markdown",
   "metadata": {},
   "source": [
    "# Gradients"
   ]
  },
  {
   "cell_type": "code",
   "execution_count": 9,
   "metadata": {},
   "outputs": [],
   "source": [
    "import os\n",
    "os.environ['JAX_PLATFORMS'] = 'cpu'\n",
    "import jax\n",
    "import jax.numpy as jnp\n",
    "import numpy as np\n",
    "import jax.extend\n",
    "import matplotlib.pyplot as plt"
   ]
  },
  {
   "cell_type": "markdown",
   "metadata": {},
   "source": [
    "Everything works on the chain rule:\n",
    "\n",
    "Suppose you have some computation expressed as a DAG:\n",
    "\n",
    "$$ X_0 \\rightarrow X_1 \\rightarrow \\dots \\rightarrow X_k \\rightarrow X_{k+1} \\rightarrow \\dots \\rightarrow L$$\n",
    "\n",
    "and we wish to compute the gradient $\\frac{\\partial L}{\\partial X_0}$. The chain rule tells us that for any node $X_i$:\n",
    "\n",
    "$$ \\frac{\\partial L}{\\partial X_0} = \\frac{\\partial L}{\\partial X_{k}}\\frac{\\partial X_{k}}{\\partial X_0}$$\n",
    "\n",
    "This suggests two ways that the gradient can be computed:\n",
    "\n",
    "1. Reverse-mode: Use the chain rule $\\frac{\\partial L}{\\partial X_k} = \\frac{\\partial L}{\\partial X_{k+1}}\\frac{\\partial X_{k+1}}{\\partial X_k}$\n",
    "\n",
    "```python\n",
    "start with dL/dX[N]\n",
    "for k in N->0:\n",
    "    dL/dX[k] = dL/dX[k+1] * dX[k+1]/dXk\n",
    "```\n",
    "\n",
    "2. Forward-mode: Use the chain rule $\\frac{\\partial X_{k+1}}{\\partial X_0} = \\frac{\\partial X_{k+1}}{\\partial X_k}\\frac{\\partial X_k}{\\partial X_0}$\n",
    "\n",
    "```python\n",
    "start with dX[1]/dX[0]\n",
    "for k in 1->N:\n",
    "    dX[k+1]/dX[0] = dX[k+1]/dX[k] * dX[k]/dX[0]\n",
    "dL/dX[0] = dL/dX[N] * dX[N]/dX[0]\n",
    "```"
   ]
  },
  {
   "cell_type": "code",
   "execution_count": 13,
   "metadata": {},
   "outputs": [],
   "source": [
    "rng = np.random.default_rng(0)\n",
    "def generate_normal(shape, norm_axis=None):\n",
    "    if norm_axis is not None:\n",
    "        norm = np.sqrt(shape[norm_axis])\n",
    "    else:\n",
    "        norm = 1\n",
    "    return jnp.asarray(rng.normal(size=shape)) / norm\n",
    "\n",
    "x0 = generate_normal((1000, 32))\n",
    "W1 = generate_normal((32, 128), norm_axis=0)\n",
    "W2 = generate_normal((128, 1), norm_axis=0)\n",
    "b1 = generate_normal((128,))\n",
    "b2 = jnp.zeros((1,))\n",
    "y_true = generate_normal((1000, 1))\n",
    "\n",
    "x1 = x0 @ W1 + b1\n",
    "x1_act = jnp.maximum(x1, 0)\n",
    "x2 = x1_act @ W2 + b2\n",
    "loss = ((x2 - y_true) ** 2).mean()"
   ]
  },
  {
   "cell_type": "markdown",
   "metadata": {},
   "source": [
    "# Reverse mode (backprop)"
   ]
  },
  {
   "cell_type": "code",
   "execution_count": 10,
   "metadata": {},
   "outputs": [],
   "source": [
    "class VJPOp:\n",
    "    def forward(self, *args): # returns output + residuals needed for backward pass\n",
    "        pass\n",
    "    def backward(self, gradients, residuals): # returns gradients for each input\n",
    "        pass\n",
    "\n",
    "class Mul(VJPOp):\n",
    "    def forward(self, X, w, b):\n",
    "        return X @ w + b, (X, w)\n",
    "\n",
    "    def backward(self, gradients, residuals):\n",
    "        gradients # (bs, d2)\n",
    "        X, w = residuals\n",
    "        dLdX = gradients @ w.T\n",
    "        dLdw = X.T @ gradients\n",
    "        dLdb = gradients.sum(axis=0)\n",
    "        return (dLdX, dLdw, dLdb)\n",
    "\n",
    "class Relu(VJPOp):\n",
    "    def forward(self, X):\n",
    "        return jnp.maximum(X, 0), (X,)\n",
    "\n",
    "    def backward(self, gradients, residuals):\n",
    "        X = residuals[0]\n",
    "        return (gradients * (X > 0),)\n",
    "\n",
    "class MSELoss(VJPOp):\n",
    "    def forward(self, y_pred, y_true):\n",
    "        return ((y_pred - y_true) ** 2).mean(), (y_pred, y_true)\n",
    "\n",
    "    def backward(self, gradients, residuals):\n",
    "        y_pred, y_true = residuals\n",
    "        n = np.prod(y_pred.shape)\n",
    "        return gradients * (2 * (y_pred - y_true) / n), gradients * (2 * (y_true - y_pred) / n)"
   ]
  },
  {
   "cell_type": "code",
   "execution_count": 11,
   "metadata": {},
   "outputs": [],
   "source": [
    "\n",
    "\n",
    "def ours(x0, W1, b1, W2, b2, y_true):\n",
    "    x1, x1_resid = Mul().forward(x0, W1, b1)\n",
    "    x1_act, x1_act_resid = Relu().forward(x1)\n",
    "    x2, x2_resid = Mul().forward(x1_act, W2, b2)\n",
    "    loss, loss_resid = MSELoss().forward(x2, y_true)\n",
    "\n",
    "    dLdL = 1\n",
    "    dLdx2, _ = MSELoss().backward(dLdL, loss_resid)\n",
    "    dLdx1_act, dLdW2, dLdb2 = Mul().backward(dLdx2, x2_resid)\n",
    "    dLdx1, = Relu().backward(dLdx1_act, x1_act_resid)\n",
    "    dLdx0, dLdW1, dLdb1 = Mul().backward(dLdx1, x1_resid)\n",
    "    return locals()\n",
    "\n",
    "def automatic(inputs):\n",
    "    def f(inputs):\n",
    "        x0, W1, b1, W2, b2, y_true = inputs[\"x0\"], inputs[\"W1\"], inputs[\"b1\"], inputs[\"W2\"], inputs[\"b2\"], inputs[\"y_true\"]\n",
    "        x1 = x0 @ W1 + b1\n",
    "        x1_act = jnp.maximum(x1, 0)\n",
    "        x2 = x1_act @ W2 + b2\n",
    "        loss = ((x2 - y_true) ** 2).mean()\n",
    "        return loss, {\"x1\": x1, \"x1_act\": x1_act, \"x2\": x2}\n",
    "    (loss, info), grads = jax.value_and_grad(f, has_aux=True)(inputs)\n",
    "    return {**info, **{f\"dLd{k}\": v for k, v in grads.items()}}"
   ]
  },
  {
   "cell_type": "code",
   "execution_count": 21,
   "metadata": {},
   "outputs": [
    {
     "name": "stdout",
     "output_type": "stream",
     "text": [
      "dLdx0 8.370422e-09\n",
      "dLdW2 7.4897803e-06\n",
      "dLdW1 1.05462895e-07\n",
      "x1_act 0.0\n",
      "dLdb2 2.3841858e-07\n",
      "x2 0.0\n",
      "dLdb1 1.1267865e-07\n",
      "x1 0.0\n"
     ]
    }
   ],
   "source": [
    "our_outputs = ours(x0, W1, b1, W2, b2, y_true)\n",
    "automatic_outputs = automatic({\"x0\": x0, \"W1\": W1, \"b1\": b1, \"W2\": W2, \"b2\": b2, \"y_true\": y_true})\n",
    "for k in set(our_outputs.keys()) & set(automatic_outputs.keys()):\n",
    "    print(k, jnp.linalg.norm(our_outputs[k] - automatic_outputs[k]))"
   ]
  },
  {
   "cell_type": "markdown",
   "metadata": {},
   "source": [
    "# Forward mode"
   ]
  },
  {
   "cell_type": "code",
   "execution_count": 14,
   "metadata": {},
   "outputs": [],
   "source": [
    "class JVPOp:\n",
    "    def forward(self, *args): \n",
    "        # takes in tuples of (i, di/dx)\n",
    "        # returns tuples of (o, do/dx)\n",
    "        pass\n",
    "\n",
    "class Mul(JVPOp):\n",
    "    def forward(self, X, w, b):\n",
    "        X, dx = X\n",
    "        w, dw = w\n",
    "        b, db = b\n",
    "        # assume that dw, db = 0\n",
    "        return X @ w + b, dx @ w\n",
    "\n",
    "class Relu(JVPOp):\n",
    "    def forward(self, X):\n",
    "        X, dx = X\n",
    "        return jnp.maximum(X, 0), dx * (X > 0)\n",
    "\n",
    "class MSELoss(JVPOp):\n",
    "    def forward(self, y_pred, y_true):\n",
    "        y_pred, dy_pred = y_pred\n",
    "        y_true, dy_true = y_true    \n",
    "        n = np.prod(y_pred.shape)\n",
    "        return ((y_pred - y_true) ** 2).mean(), dy_pred @ (2 * (y_pred - y_true) / n)\n"
   ]
  },
  {
   "cell_type": "code",
   "execution_count": 56,
   "metadata": {},
   "outputs": [],
   "source": [
    "def ours(x0, W1, b1, W2, b2, y_true):\n",
    "    dx0dx0 = jnp.eye(x0.shape[1])\n",
    "    x1, dx1dx0 = Mul().forward((x0, dx0dx0), (W1, 0), (b1, 0))\n",
    "    x1_act, dx1_actdx0 = Relu().forward((x1, dx1dx0))\n",
    "    x2, dx2dx0 = Mul().forward((x1_act, dx1_actdx0), (W2, 0), (b2, 0))\n",
    "    loss, dlossdx0 = MSELoss().forward((x2, dx2dx0), (y_true, 0))\n",
    "    return {k: v.T for k, v in locals().items() if 'dx0' in k}\n",
    "\n",
    "def automatic(inputs):\n",
    "    def f(x0):\n",
    "        x0 = x0[None]\n",
    "        x1 = x0 @ inputs[\"W1\"] + inputs[\"b1\"]\n",
    "        x1_act = jnp.maximum(x1, 0)\n",
    "        x2 = x1_act @ inputs[\"W2\"] + inputs[\"b2\"]\n",
    "        loss = ((x2 - inputs[\"y_true\"]) ** 2).mean()\n",
    "        return {\"dx0dx0\": x0[0], \"dx1dx0\": x1[0], \"dx1_actdx0\": x1_act[0], \"dx2dx0\": x2[0], \"loss\": loss[None]}\n",
    "    return jax.jacfwd(f)(inputs[\"x0\"][0])\n"
   ]
  },
  {
   "cell_type": "code",
   "execution_count": 55,
   "metadata": {},
   "outputs": [
    {
     "name": "stdout",
     "output_type": "stream",
     "text": [
      "x2.shape=(1, 1), dx2dx0.shape=(32, 1)\n",
      "dx1_actdx0 0.0\n",
      "dx2dx0 5.934944e-08\n",
      "dx1dx0 0.0\n",
      "dx0dx0 0.0\n"
     ]
    }
   ],
   "source": [
    "automatic_outputs = automatic({\"x0\": x0[:1], \"W1\": W1, \"b1\": b1, \"W2\": W2, \"b2\": b2, \"y_true\": y_true[:1]})\n",
    "our_outputs = ours(x0[:1], W1, b1, W2, b2, y_true[:1])\n",
    "for k in set(our_outputs.keys()) & set(automatic_outputs.keys()):\n",
    "    print(k, jnp.linalg.norm(our_outputs[k] - automatic_outputs[k]))"
   ]
  },
  {
   "cell_type": "markdown",
   "metadata": {},
   "source": [
    "# MLP in Numpy"
   ]
  },
  {
   "cell_type": "code",
   "execution_count": 60,
   "metadata": {},
   "outputs": [],
   "source": [
    "import mnist\n",
    "mnist.datasets_url = 'https://storage.googleapis.com/cvdf-datasets/mnist/'\n",
    "\n",
    "images = mnist.train_images()\n",
    "labels = mnist.train_labels()"
   ]
  },
  {
   "cell_type": "code",
   "execution_count": null,
   "metadata": {},
   "outputs": [],
   "source": []
  },
  {
   "cell_type": "code",
   "execution_count": 66,
   "metadata": {},
   "outputs": [
    {
     "data": {
      "text/plain": [
       "(60000, 784)"
      ]
     },
     "execution_count": 66,
     "metadata": {},
     "output_type": "execute_result"
    }
   ],
   "source": [
    "X.shape"
   ]
  },
  {
   "cell_type": "code",
   "execution_count": 70,
   "metadata": {},
   "outputs": [],
   "source": [
    "import tqdm\n",
    "X = images.reshape(images.shape[0], -1)\n",
    "X = X.astype(jnp.float32) / 127.5 - 1\n",
    "y = labels.astype(jnp.int32)\n",
    "\n",
    "def init_params(rng: np.random.Generator):\n",
    "    W1 = jnp.asarray(rng.normal(size=(28 * 28, 128))) / np.sqrt(28 * 28)\n",
    "    b1 = jnp.zeros((128,))\n",
    "    W2 = jnp.asarray(rng.normal(size=(128, 10))) / np.sqrt(128)\n",
    "    b2 = jnp.zeros((10,))\n",
    "    return (W1, b1), (W2, b2)\n",
    "\n",
    "def model(x, params):\n",
    "    for W, b in params[:-1]:\n",
    "        x = jnp.maximum(x @ W + b, 0)\n",
    "    logits = x @ params[-1][0] + params[-1][1]\n",
    "    logits = logits - logits.max(axis=-1, keepdims=True) # Numerical stability\n",
    "    logits = jnp.exp(logits)\n",
    "    probs = logits / logits.sum(axis=-1, keepdims=True)\n",
    "    return probs\n",
    "\n",
    "    return jax.nn.softmax(x @ params[-1][0] + params[-1][1], axis=-1)\n",
    "\n",
    "def get_metrics(params, X, y, bs=1000):\n",
    "    accs = []\n",
    "    losses = []\n",
    "    for i in tqdm.trange(0, X.shape[0], bs):\n",
    "        x = X[i:i+bs]\n",
    "        y_pred = model(x, params)\n",
    "        y_true = y[i:i+bs]\n",
    "        acc = (y_pred.argmax(axis=-1) == y_true).mean()\n",
    "        loss = -jnp.log(y_pred[jnp.arange(bs), y_true]).mean()\n",
    "        accs.append(acc)\n",
    "        losses.append(loss)\n",
    "    return {\n",
    "        'acc': jnp.array(accs).mean(),\n",
    "        'loss': jnp.array(losses).mean()\n",
    "    }\n"
   ]
  },
  {
   "cell_type": "code",
   "execution_count": 71,
   "metadata": {},
   "outputs": [
    {
     "name": "stderr",
     "output_type": "stream",
     "text": [
      "100%|██████████| 60/60 [00:00<00:00, 647.99it/s]\n"
     ]
    },
    {
     "data": {
      "text/plain": [
       "{'acc': Array(0.09485, dtype=float32), 'loss': Array(2.7404664, dtype=float32)}"
      ]
     },
     "execution_count": 71,
     "metadata": {},
     "output_type": "execute_result"
    }
   ],
   "source": [
    "params = init_params(rng)\n",
    "get_metrics(params, X, y)"
   ]
  },
  {
   "cell_type": "code",
   "execution_count": 106,
   "metadata": {},
   "outputs": [],
   "source": [
    "def get_loss_and_grads(x, labels, params):\n",
    "    intermediates = []\n",
    "    for n, (W, b) in enumerate(params):\n",
    "        last_x = x\n",
    "        x = post_linear = x @ W + b\n",
    "        if n != len(params) - 1:\n",
    "            x = jnp.maximum(x, 0)\n",
    "        intermediates.append((last_x, post_linear))\n",
    "    logits = x - x.max(axis=-1, keepdims=True) # Numerical stability\n",
    "    logits = jnp.exp(logits)\n",
    "    probs = logits / logits.sum(axis=-1, keepdims=True)\n",
    "    one_hot = jax.nn.one_hot(labels, 10)\n",
    "    loss = -(jnp.log(probs) * one_hot).sum(-1).mean()\n",
    "    accuracy = (probs.argmax(axis=-1) == labels).mean()\n",
    "\n",
    "    dLdx = dLdlogits = -1 * (jax.nn.one_hot(labels, 10) - probs) / probs.shape[0] # (bs, 10)\n",
    "    deltas = []\n",
    "    for n, (x, x_act) in zip(range(len(params)-1, -1, -1), reversed(intermediates)):\n",
    "        if n != len(params) - 1:\n",
    "            dLdx_act = dLdx * (x_act > 0) # ReLU\n",
    "        else:\n",
    "            dLdx_act = dLdx\n",
    "        # dLdx_act = (bs, d2)\n",
    "        dLdx = dLdx_act @ params[n][0].T # (bs, d1)\n",
    "        dLdw = x.T @ dLdx_act # (d1, d2)\n",
    "        dLdb = dLdx_act.sum(0)\n",
    "        deltas.append((dLdw, dLdb))\n",
    "    return loss, accuracy, tuple(deltas[::-1])"
   ]
  },
  {
   "cell_type": "code",
   "execution_count": 88,
   "metadata": {},
   "outputs": [
    {
     "data": {
      "text/plain": [
       "((), (), [((784, 128), (128,)), ((128, 10), (10,))])"
      ]
     },
     "execution_count": 88,
     "metadata": {},
     "output_type": "execute_result"
    }
   ],
   "source": [
    "jax.tree.map(lambda x: x.shape, get_loss_and_grads(*sample_batch(rng, X, y), params))"
   ]
  },
  {
   "cell_type": "code",
   "execution_count": 110,
   "metadata": {},
   "outputs": [
    {
     "name": "stderr",
     "output_type": "stream",
     "text": [
      "  0%|          | 0/1000 [00:00<?, ?it/s]"
     ]
    },
    {
     "name": "stderr",
     "output_type": "stream",
     "text": [
      "100%|██████████| 1000/1000 [00:04<00:00, 220.85it/s]\n"
     ]
    },
    {
     "data": {
      "text/plain": [
       "[<matplotlib.lines.Line2D at 0x7ff24425b990>]"
      ]
     },
     "execution_count": 110,
     "metadata": {},
     "output_type": "execute_result"
    },
    {
     "data": {
      "image/png": "[encoded data removed]",
      "text/plain": [
       "<Figure size 640x480 with 2 Axes>"
      ]
     },
     "metadata": {},
     "output_type": "display_data"
    }
   ],
   "source": [
    "def sample_batch(rng, X, y, bs=1000):\n",
    "    i = rng.integers(0, X.shape[0], bs)\n",
    "    return X[i], y[i]\n",
    "\n",
    "def run_sgd(params, batch, lr=1e-2):\n",
    "    loss, accuracy, deltas = get_loss_and_grads(*batch, params)\n",
    "    new_params = []\n",
    "    for (W, b), (dLdw, dLdb) in zip(params, deltas):\n",
    "        new_params.append((W - lr * dLdw, b - lr * dLdb))\n",
    "    return new_params, loss, accuracy\n",
    "\n",
    "rng = np.random.default_rng(0)\n",
    "params = init_params(rng)\n",
    "losses = []\n",
    "accuracies = []\n",
    "for i in tqdm.trange(1000):\n",
    "    params, loss, accuracy = run_sgd(params, sample_batch(rng, X, y))\n",
    "    losses.append(loss)\n",
    "    accuracies.append(accuracy)\n",
    "\n",
    "plt.subplot(1, 2, 1)\n",
    "plt.plot(losses, label=\"Loss\")\n",
    "plt.subplot(1, 2, 2)\n",
    "plt.plot(accuracies, label=\"Accuracy\")\n"
   ]
  },
  {
   "cell_type": "code",
   "execution_count": null,
   "metadata": {},
   "outputs": [
    {
     "name": "stderr",
     "output_type": "stream",
     "text": [
      "  0%|          | 0/1000 [00:00<?, ?it/s]"
     ]
    },
    {
     "name": "stderr",
     "output_type": "stream",
     "text": [
      " 54%|█████▍    | 538/1000 [00:03<00:02, 159.75it/s]"
     ]
    }
   ],
   "source": [
    "import dataclasses\n",
    "@dataclasses.dataclass\n",
    "class Adam:\n",
    "    params: list[tuple[jnp.ndarray, jnp.ndarray]]\n",
    "    momentum: list[tuple[jnp.ndarray, jnp.ndarray]]\n",
    "    momentum2: list[tuple[jnp.ndarray, jnp.ndarray]]\n",
    "    b1: float\n",
    "    b2: float\n",
    "    eps: float\n",
    "    lr: float\n",
    "\n",
    "    @classmethod\n",
    "    def create(cls, params, lr=1e-3, b1=0.9, b2=0.999, eps=1e-8):\n",
    "        momentum = jax.tree.map(lambda p: jnp.zeros_like(p), params)\n",
    "        momentum2 = jax.tree.map(lambda p: jnp.zeros_like(p), params)\n",
    "        return cls(params, momentum, momentum2, b1, b2, eps, lr)\n",
    "\n",
    "def run_adam(state: Adam, batch):\n",
    "    loss, accuracy, deltas = get_loss_and_grads(*batch, state.params)\n",
    "    b1, b2, eps, lr = state.b1, state.b2, state.eps, state.lr\n",
    "    new_momentum = jax.tree.map(lambda m, g: b1 * m + (1 - b1) * g, state.momentum, deltas)\n",
    "    new_momentum2 = jax.tree.map(lambda m2, g: b2 * m2 + (1 - b2) * g ** 2, state.momentum2, deltas)\n",
    "    new_params = jax.tree.map(lambda p, m, m2: p - lr * m / (eps + jnp.sqrt(m2)), state.params, new_momentum, new_momentum2)\n",
    "    return dataclasses.replace(state, params=new_params, momentum=new_momentum, momentum2=new_momentum2), loss, accuracy\n",
    "\n",
    "rng = np.random.default_rng(0)\n",
    "params = init_params(rng)\n",
    "state = Adam.create(params)\n",
    "adam_losses = []\n",
    "adam_accuracies = []\n",
    "for i in tqdm.trange(1000):\n",
    "    state, loss, accuracy = run_adam(state, sample_batch(rng, X, y))\n",
    "    adam_losses.append(loss)\n",
    "    adam_accuracies.append(accuracy)\n",
    "\n",
    "plt.subplot(1, 2, 1)\n",
    "plt.plot(losses, label=\"Loss\")\n",
    "plt.plot(adam_losses, label=\"Adam Loss\")\n",
    "plt.subplot(1, 2, 2)\n",
    "plt.plot(accuracies, label=\"Accuracy\")\n",
    "plt.plot(adam_accuracies, label=\"Adam Accuracy\")\n",
    "plt.legend()"
   ]
  }
 ],
 "metadata": {
  "language_info": {
   "name": "python"
  }
 },
 "nbformat": 4,
 "nbformat_minor": 2
}
