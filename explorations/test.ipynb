{
 "cells": [
  {
   "cell_type": "code",
   "execution_count": 1,
   "metadata": {},
   "outputs": [],
   "source": [
    "import os\n",
    "os.environ['JAX_PLATFORMS'] = 'cpu'"
   ]
  },
  {
   "cell_type": "code",
   "execution_count": 2,
   "metadata": {},
   "outputs": [],
   "source": [
    "from gemma import transformer, sampler\n",
    "import dataclasses\n",
    "\n",
    "# import orbax.checkpoint as ocp\n",
    "# checkpointer = ocp.StandardCheckpointer()\n",
    "# params = checkpointer.restore(\"/nfs/nfs2/users/dibya/gemma-2/gemma2-2b/\")\n",
    "\n",
    "# model = transformer.Gemma.create_from_pretrained(params, dataclasses.replace(transformer.GemmaConfig.gemma2_2b(), dtype=\"bfloat16\"))"
   ]
  },
  {
   "cell_type": "code",
   "execution_count": 3,
   "metadata": {},
   "outputs": [],
   "source": [
    "def test_sampling():\n",
    "    model = transformer.Gemma.create(jax.random.PRNGKey(0), dataclasses.replace(transformer.GemmaConfig.gemma2_2b(), dtype=\"bfloat16\"))\n",
    "    sampler.sample(model, jnp.ones((1, 1024), dtype=jnp.int32), jnp.ones((1, 1024), dtype=jnp.int32), 1024, 1, jax.random.PRNGKey(0))"
   ]
  },
  {
   "cell_type": "code",
   "execution_count": 4,
   "metadata": {},
   "outputs": [
    {
     "name": "stdout",
     "output_type": "stream",
     "text": [
      "1 1024\n",
      "(Traced<ShapedArray(bfloat16[26,1,2048,4,256])>with<DynamicJaxprTrace>, Traced<ShapedArray(bfloat16[26,1,2048,4,256])>with<DynamicJaxprTrace>)\n"
     ]
    },
    {
     "ename": "TypeError",
     "evalue": "while_loop body function carry input and carry output must have equal types (e.g. shapes and dtypes of arrays), but they differ:\n\n  * the input carry component state.last_positions has type int32[1] but the corresponding output carry component has type int32[1,1024], so the shapes do not match;\n  * the input carry component state.done has type bool[1,1] but the corresponding output carry component has type bool[1,1024], so the shapes do not match.\n\nRevise the function so that all output types (e.g. shapes and dtypes) match the corresponding input types.",
     "output_type": "error",
     "traceback": [
      "\u001b[0;31m---------------------------------------------------------------------------\u001b[0m",
      "\u001b[0;31mTypeError\u001b[0m                                 Traceback (most recent call last)",
      "\u001b[1;32m/home/dibya/nfs/practice/transformer_from_scratch/test.ipynb Cell 4\u001b[0m line \u001b[0;36m3\n\u001b[1;32m      <a href='vscode-notebook-cell://ssh-remote%2Btpuv4-tpu/home/dibya/nfs/practice/transformer_from_scratch/test.ipynb#W2sdnNjb2RlLXJlbW90ZQ%3D%3D?line=0'>1</a>\u001b[0m \u001b[39mimport\u001b[39;00m \u001b[39mjax\u001b[39;00m\n\u001b[1;32m      <a href='vscode-notebook-cell://ssh-remote%2Btpuv4-tpu/home/dibya/nfs/practice/transformer_from_scratch/test.ipynb#W2sdnNjb2RlLXJlbW90ZQ%3D%3D?line=1'>2</a>\u001b[0m \u001b[39mimport\u001b[39;00m \u001b[39mjax\u001b[39;00m\u001b[39m.\u001b[39;00m\u001b[39mnumpy\u001b[39;00m \u001b[39mas\u001b[39;00m \u001b[39mjnp\u001b[39;00m\n\u001b[0;32m----> <a href='vscode-notebook-cell://ssh-remote%2Btpuv4-tpu/home/dibya/nfs/practice/transformer_from_scratch/test.ipynb#W2sdnNjb2RlLXJlbW90ZQ%3D%3D?line=2'>3</a>\u001b[0m jax\u001b[39m.\u001b[39;49meval_shape(test_sampling)\n",
      "    \u001b[0;31m[... skipping hidden 14 frame]\u001b[0m\n",
      "\u001b[1;32m/home/dibya/nfs/practice/transformer_from_scratch/test.ipynb Cell 4\u001b[0m line \u001b[0;36m3\n\u001b[1;32m      <a href='vscode-notebook-cell://ssh-remote%2Btpuv4-tpu/home/dibya/nfs/practice/transformer_from_scratch/test.ipynb#W2sdnNjb2RlLXJlbW90ZQ%3D%3D?line=0'>1</a>\u001b[0m \u001b[39mdef\u001b[39;00m \u001b[39mtest_sampling\u001b[39m():\n\u001b[1;32m      <a href='vscode-notebook-cell://ssh-remote%2Btpuv4-tpu/home/dibya/nfs/practice/transformer_from_scratch/test.ipynb#W2sdnNjb2RlLXJlbW90ZQ%3D%3D?line=1'>2</a>\u001b[0m     model \u001b[39m=\u001b[39m transformer\u001b[39m.\u001b[39mGemma\u001b[39m.\u001b[39mcreate(jax\u001b[39m.\u001b[39mrandom\u001b[39m.\u001b[39mPRNGKey(\u001b[39m0\u001b[39m), dataclasses\u001b[39m.\u001b[39mreplace(transformer\u001b[39m.\u001b[39mGemmaConfig\u001b[39m.\u001b[39mgemma2_2b(), dtype\u001b[39m=\u001b[39m\u001b[39m\"\u001b[39m\u001b[39mbfloat16\u001b[39m\u001b[39m\"\u001b[39m))\n\u001b[0;32m----> <a href='vscode-notebook-cell://ssh-remote%2Btpuv4-tpu/home/dibya/nfs/practice/transformer_from_scratch/test.ipynb#W2sdnNjb2RlLXJlbW90ZQ%3D%3D?line=2'>3</a>\u001b[0m     sampler\u001b[39m.\u001b[39;49msample(model, jnp\u001b[39m.\u001b[39;49mones((\u001b[39m1\u001b[39;49m, \u001b[39m1024\u001b[39;49m), dtype\u001b[39m=\u001b[39;49mjnp\u001b[39m.\u001b[39;49mint32), jnp\u001b[39m.\u001b[39;49mones((\u001b[39m1\u001b[39;49m, \u001b[39m1024\u001b[39;49m), dtype\u001b[39m=\u001b[39;49mjnp\u001b[39m.\u001b[39;49mint32), \u001b[39m1024\u001b[39;49m, \u001b[39m1\u001b[39;49m, jax\u001b[39m.\u001b[39;49mrandom\u001b[39m.\u001b[39;49mPRNGKey(\u001b[39m0\u001b[39;49m))\n",
      "    \u001b[0;31m[... skipping hidden 15 frame]\u001b[0m\n",
      "File \u001b[0;32m/nfs/nfs2/users/dibya/practice/transformer_from_scratch/gemma/sampler.py:121\u001b[0m, in \u001b[0;36msample\u001b[0;34m(model, initial_tokens, input_mask, max_length, eos_token, key, cache_dtype)\u001b[0m\n\u001b[1;32m    108\u001b[0m     \u001b[39mreturn\u001b[39;00m jnp\u001b[39m.\u001b[39mlogical_and(\n\u001b[1;32m    109\u001b[0m         jnp\u001b[39m.\u001b[39many(jnp\u001b[39m.\u001b[39mlogical_not(state\u001b[39m.\u001b[39mdone)), state\u001b[39m.\u001b[39midx \u001b[39m<\u001b[39m max_length\n\u001b[1;32m    110\u001b[0m     )\n\u001b[1;32m    112\u001b[0m init_state \u001b[39m=\u001b[39m SampleState(\n\u001b[1;32m    113\u001b[0m     kv_cache\u001b[39m=\u001b[39mkv_cache,\n\u001b[1;32m    114\u001b[0m     last_logits\u001b[39m=\u001b[39minit_logits,\n\u001b[0;32m   (...)\u001b[0m\n\u001b[1;32m    119\u001b[0m     key\u001b[39m=\u001b[39mkey,\n\u001b[1;32m    120\u001b[0m )\n\u001b[0;32m--> 121\u001b[0m final_state \u001b[39m=\u001b[39m jax\u001b[39m.\u001b[39;49mlax\u001b[39m.\u001b[39;49mwhile_loop(_continue_sampling, sample_step, init_state)\n\u001b[1;32m    122\u001b[0m \u001b[39mreturn\u001b[39;00m final_state\u001b[39m.\u001b[39mtoken_buffer\n",
      "    \u001b[0;31m[... skipping hidden 2 frame]\u001b[0m\n",
      "File \u001b[0;32m/nfs/nfs2/users/dibya/miniconda3/envs/lv_env/lib/python3.11/site-packages/jax/_src/lax/control_flow/loops.py:407\u001b[0m, in \u001b[0;36m_check_carry_type\u001b[0;34m(name, body_fun, in_carry, out_carry_tree, out_avals)\u001b[0m\n\u001b[1;32m    404\u001b[0m \u001b[39melse\u001b[39;00m:\n\u001b[1;32m    405\u001b[0m   differences \u001b[39m=\u001b[39m (\u001b[39m'\u001b[39m\u001b[39m\\n\u001b[39;00m\u001b[39m'\u001b[39m\u001b[39m.\u001b[39mjoin(\u001b[39mf\u001b[39m\u001b[39m'\u001b[39m\u001b[39m  * \u001b[39m\u001b[39m{\u001b[39;00md\u001b[39m}\u001b[39;00m\u001b[39m;\u001b[39m\u001b[39m\\n\u001b[39;00m\u001b[39m'\u001b[39m \u001b[39mfor\u001b[39;00m d \u001b[39min\u001b[39;00m diffs[:\u001b[39m-\u001b[39m\u001b[39m1\u001b[39m])\n\u001b[1;32m    406\u001b[0m                  \u001b[39m+\u001b[39m \u001b[39mf\u001b[39m\u001b[39m'\u001b[39m\u001b[39m  * \u001b[39m\u001b[39m{\u001b[39;00mdiffs[\u001b[39m-\u001b[39m\u001b[39m1\u001b[39m]\u001b[39m}\u001b[39;00m\u001b[39m.\u001b[39m\u001b[39m\\n\u001b[39;00m\u001b[39m'\u001b[39m)\n\u001b[0;32m--> 407\u001b[0m \u001b[39mraise\u001b[39;00m \u001b[39mTypeError\u001b[39;00m(\n\u001b[1;32m    408\u001b[0m     \u001b[39mf\u001b[39m\u001b[39m\"\u001b[39m\u001b[39m{\u001b[39;00mname\u001b[39m}\u001b[39;00m\u001b[39m function carry input and carry output must have equal types \u001b[39m\u001b[39m\"\u001b[39m\n\u001b[1;32m    409\u001b[0m     \u001b[39m\"\u001b[39m\u001b[39m(e.g. shapes and dtypes of arrays), \u001b[39m\u001b[39m\"\u001b[39m\n\u001b[1;32m    410\u001b[0m     \u001b[39m\"\u001b[39m\u001b[39mbut they differ:\u001b[39m\u001b[39m\\n\u001b[39;00m\u001b[39m\\n\u001b[39;00m\u001b[39m\"\u001b[39m\n\u001b[1;32m    411\u001b[0m     \u001b[39mf\u001b[39m\u001b[39m\"\u001b[39m\u001b[39m{\u001b[39;00mdifferences\u001b[39m}\u001b[39;00m\u001b[39m\\n\u001b[39;00m\u001b[39m\"\u001b[39m\n\u001b[1;32m    412\u001b[0m     \u001b[39m\"\u001b[39m\u001b[39mRevise the function so that all output types (e.g. shapes \u001b[39m\u001b[39m\"\u001b[39m\n\u001b[1;32m    413\u001b[0m     \u001b[39m\"\u001b[39m\u001b[39mand dtypes) match the corresponding input types.\u001b[39m\u001b[39m\"\u001b[39m)\n",
      "\u001b[0;31mTypeError\u001b[0m: while_loop body function carry input and carry output must have equal types (e.g. shapes and dtypes of arrays), but they differ:\n\n  * the input carry component state.last_positions has type int32[1] but the corresponding output carry component has type int32[1,1024], so the shapes do not match;\n  * the input carry component state.done has type bool[1,1] but the corresponding output carry component has type bool[1,1024], so the shapes do not match.\n\nRevise the function so that all output types (e.g. shapes and dtypes) match the corresponding input types."
     ]
    }
   ],
   "source": [
    "import jax\n",
    "import jax.numpy as jnp\n",
    "jax.eval_shape(test_sampling)"
   ]
  },
  {
   "cell_type": "code",
   "execution_count": 4,
   "metadata": {},
   "outputs": [],
   "source": []
  },
  {
   "cell_type": "code",
   "execution_count": null,
   "metadata": {},
   "outputs": [],
   "source": []
  },
  {
   "cell_type": "code",
   "execution_count": 4,
   "metadata": {},
   "outputs": [],
   "source": [
    "import flax\n",
    "import jax\n",
    "import jax.numpy as jnp\n",
    "params = flax.traverse_util.flatten_dict(params, sep=\"/\")\n"
   ]
  },
  {
   "cell_type": "code",
   "execution_count": 5,
   "metadata": {},
   "outputs": [],
   "source": [
    "\n",
    "new_params = {k: v for k, v in params.items() if \"transformer/layer_\" not in k}\n",
    "\n",
    "for k in filter(lambda x: \"transformer/layer_0/\" in x, params.keys()):\n",
    "    new_params[k.replace(\"/layer_0/\", \"/layers/\")] = jnp.stack([\n",
    "        params[k.replace(\"layer_0\", f\"layer_{i}\")]\n",
    "        for i in range(26)\n",
    "    ])\n",
    "new_params = flax.traverse_util.unflatten_dict(new_params, sep=\"/\")"
   ]
  },
  {
   "cell_type": "code",
   "execution_count": 6,
   "metadata": {},
   "outputs": [
    {
     "data": {
      "text/plain": [
       "{'transformer': {'embedder': {'input_embedding': (256128, 2304)},\n",
       "  'final_norm': {'scale': (2304,)},\n",
       "  'layers': {'attn': {'attn_vec_einsum': {'w': (26, 8, 256, 2304)},\n",
       "    'kv_einsum': {'w': (26, 2, 4, 2304, 256)},\n",
       "    'q_einsum': {'w': (26, 8, 2304, 256)}},\n",
       "   'mlp': {'gating_einsum': {'w': (26, 2, 2304, 9216)},\n",
       "    'linear': {'w': (26, 9216, 2304)}},\n",
       "   'post_attention_norm': {'scale': (26, 2304)},\n",
       "   'post_ffw_norm': {'scale': (26, 2304)},\n",
       "   'pre_attention_norm': {'scale': (26, 2304)},\n",
       "   'pre_ffw_norm': {'scale': (26, 2304)}}}}"
      ]
     },
     "execution_count": 6,
     "metadata": {},
     "output_type": "execute_result"
    }
   ],
   "source": [
    "import jax\n",
    "jax.tree.map(lambda x: x.shape, new_params)"
   ]
  },
  {
   "cell_type": "code",
   "execution_count": 7,
   "metadata": {},
   "outputs": [],
   "source": [
    "import nnjax\n",
    "flattened_target = flax.traverse_util.flatten_dict(nnjax.asdict(model))\n",
    "flattened_src = flax.traverse_util.flatten_dict(new_params)"
   ]
  },
  {
   "cell_type": "code",
   "execution_count": 8,
   "metadata": {},
   "outputs": [
    {
     "name": "stdout",
     "output_type": "stream",
     "text": [
      "keys in target but not in src:\n",
      "{('embedder', 'input_embedding')}\n",
      "keys in src but not in target:\n",
      "{('transformer', 'embedder', 'input_embedding')}\n"
     ]
    }
   ],
   "source": [
    "print(\"keys in target but not in src:\")\n",
    "print(set(flattened_target.keys()) - set(flattened_src.keys()))\n",
    "print(\"keys in src but not in target:\")\n",
    "print(set(flattened_src.keys()) - set(flattened_target.keys()))\n"
   ]
  }
 ],
 "metadata": {
  "language_info": {
   "name": "python"
  }
 },
 "nbformat": 4,
 "nbformat_minor": 2
}
